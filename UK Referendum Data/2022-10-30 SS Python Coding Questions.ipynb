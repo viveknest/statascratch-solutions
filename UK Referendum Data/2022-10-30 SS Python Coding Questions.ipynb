{
 "cells": [
  {
   "cell_type": "markdown",
   "id": "5993780c",
   "metadata": {},
   "source": [
    "## Introduction\n",
    "\n",
    "The objective of this exercise is to check your ability to use basic Python Data Structures, control program flow and, define and use functions\n",
    "\n",
    "\n",
    "We will be using the [EU referendum results data](https://www.electoralcommission.org.uk/who-we-are-and-what-we-do/elections-and-referendums/past-elections-and-referendums/eu-referendum/results-and-turnout-eu-referendum). \n",
    "\n",
    "On 23rd June 2016, the United Kingdom voted to decide whether the country should remain a member of the European Union (EU) or leave. Each of the registered voter in the UK was given a simple choice. \n",
    "\n",
    "- Remain \n",
    "- Or Leave\n",
    "\n",
    "The voters were asked to fill out their choices in a ballot paper. \n",
    "\n",
    "<img src=\"https://upload.wikimedia.org/wikipedia/commons/thumb/c/c4/2016_EU_Referendum_Ballot_Paper.svg/1280px-2016_EU_Referendum_Ballot_Paper.svg.png\" width=\"450\"/>\n",
    "\n",
    "\n",
    "\n",
    "For this exercise, we will analyze the results of this referendum. We have split the full data into three files. \n",
    "\n",
    "```uk_demo.json```\n",
    "\n",
    "| Field       | Description                    |\n",
    "|-------------|--------------------------------|\n",
    "| ```Area_Code```   | Unique identifier for the area  |\n",
    "| ```Area```        | Area Name               |\n",
    "| ```Region_Code``` | Unique identifier for the region |\n",
    "| ```Region```      | Region Name             |\n",
    "| ```Electorate```  | Number of registered voters in the area   |\n",
    "\n",
    "```uk_results.json```\n",
    "\n",
    "| Field       | Description                            |\n",
    "|-------------|----------------------------------------|\n",
    "| ```Area_Code```   | Unique identifier for an area          |\n",
    "| ```Votes_Cast```  | Number of Votes Cast in the area       |\n",
    "| ```Valid_Votes``` | Number of Valid Votes cast in the area |\n",
    "| ```Remain```      | Number of votes for Remain             |\n",
    "| ```Leave```       | Number of votes for Leave              |\n",
    "\n",
    "```uk_rejected_ballots.json```\n",
    "\n",
    "| Field                         | Description                                                            |\n",
    "|-------------------------------|------------------------------------------------------------------------|\n",
    "| ```Area_Code```               | Unique identifier for an area                                          |\n",
    "| ```Rejected_Ballots```        | Number of Rejected Ballots in the Area                                 |\n",
    "| ```No_official_mark```        | Number of ballots rejected because they did not have any offical mark  |\n",
    "| ```Voting_for_both_answers``` | Number of ballots rejected because they voted for both answers         |\n",
    "| ```Writing_or_mark```         | Number of ballots rejected because they had a writing instead of check |"
   ]
  },
  {
   "cell_type": "markdown",
   "id": "0d730472",
   "metadata": {},
   "source": [
    "## For Q1 to Q6, do not use the ```Pandas``` or ```NumPy``` Libraries"
   ]
  },
  {
   "cell_type": "markdown",
   "id": "4044d0b1",
   "metadata": {},
   "source": [
    "### Q1. Load the data"
   ]
  },
  {
   "cell_type": "code",
   "execution_count": null,
   "id": "06ceb2f6",
   "metadata": {},
   "outputs": [],
   "source": []
  },
  {
   "cell_type": "markdown",
   "id": "622a2d83",
   "metadata": {},
   "source": [
    "### Q2. Join the data\n",
    "\n",
    "Consolidate the three lists into a single list by joining on the Area Code"
   ]
  },
  {
   "cell_type": "code",
   "execution_count": null,
   "id": "1ed89782",
   "metadata": {},
   "outputs": [],
   "source": []
  },
  {
   "cell_type": "markdown",
   "id": "e2bf0625",
   "metadata": {},
   "source": [
    "### Q3. Summary Statistics\n",
    "\n",
    "Find the maximum, minimum, median, 25th and 75th percentile values for \n",
    "- Electorate\n",
    "- Number of Votes Cast\n",
    "- Number of Valid Votes\n",
    "- Number of Remain Votes\n",
    "- Number of Leave Votes\n",
    "- Number of Rejected Votes\n"
   ]
  },
  {
   "cell_type": "code",
   "execution_count": null,
   "id": "0e93b267",
   "metadata": {},
   "outputs": [],
   "source": []
  },
  {
   "cell_type": "markdown",
   "id": "dc020a16",
   "metadata": {},
   "source": [
    "### Q4. Top and Bottom Areas\n",
    "\n",
    "- Find the Area with the highest and lowest Electorates\n",
    "- Find the Area with the highest and lowest Remain Voters\n",
    "- Find the Area with the highest and lowest Leave Voters\n"
   ]
  },
  {
   "cell_type": "code",
   "execution_count": null,
   "id": "4377890c",
   "metadata": {},
   "outputs": [],
   "source": []
  },
  {
   "cell_type": "markdown",
   "id": "eb0e79b7",
   "metadata": {},
   "source": [
    "### Q5. Region-wise Totals\n",
    "\n",
    "Aggregate the values at region level\n"
   ]
  },
  {
   "cell_type": "code",
   "execution_count": null,
   "id": "0155af37",
   "metadata": {},
   "outputs": [],
   "source": []
  },
  {
   "cell_type": "markdown",
   "id": "5b9b1223",
   "metadata": {},
   "source": [
    "### Q6. Contribution\n",
    "\n",
    "Find the Contribution of each region to the total"
   ]
  },
  {
   "cell_type": "code",
   "execution_count": null,
   "id": "04ca803e",
   "metadata": {},
   "outputs": [],
   "source": []
  },
  {
   "cell_type": "markdown",
   "id": "4f98a707",
   "metadata": {},
   "source": [
    "## Pandas\n",
    "\n",
    "Use the Pandas Library and perform each of the above operations"
   ]
  },
  {
   "cell_type": "code",
   "execution_count": null,
   "id": "1dcdc717",
   "metadata": {},
   "outputs": [],
   "source": []
  },
  {
   "cell_type": "markdown",
   "id": "ba741055",
   "metadata": {},
   "source": [
    "## Additional Pandas Qs"
   ]
  },
  {
   "cell_type": "code",
   "execution_count": null,
   "id": "47c2af9c",
   "metadata": {},
   "outputs": [],
   "source": []
  },
  {
   "cell_type": "markdown",
   "id": "0230790c",
   "metadata": {},
   "source": [
    "### Q7. What if\n",
    "Could the results of election be any different if the invalid Ballots were for the Remain campaign?"
   ]
  },
  {
   "cell_type": "code",
   "execution_count": null,
   "id": "bd8bdcab",
   "metadata": {},
   "outputs": [],
   "source": []
  },
  {
   "cell_type": "markdown",
   "id": "e896ee20",
   "metadata": {},
   "source": [
    "### Q8. Margins\n",
    "\n",
    "#### a) Find the areas with the lowest and highest margin of victory for the Leave Campaign\n",
    "#### b) Find the areas with the lowest and highest margin of victory for the Remain Campaign\n",
    "#### c) Find the Regions with the lowest and highest margin of victory for the Leave Campaign\n",
    "#### d) Find the Regions with the lowest and highest margin of victory for the Remain Campaign\n"
   ]
  },
  {
   "cell_type": "code",
   "execution_count": null,
   "id": "71bd9cd1",
   "metadata": {},
   "outputs": [],
   "source": []
  },
  {
   "cell_type": "markdown",
   "id": "409b728d",
   "metadata": {},
   "source": [
    "### Q9. Turnout\n",
    "#### a) Find the areas with the lowest and highest turnout\n",
    "#### b) Find the Regions with the lowest and highest turnout"
   ]
  },
  {
   "cell_type": "code",
   "execution_count": null,
   "id": "eedd92b3",
   "metadata": {},
   "outputs": [],
   "source": []
  },
  {
   "cell_type": "markdown",
   "id": "4c455590",
   "metadata": {},
   "source": [
    "### Q10. Rejected Ballots\n",
    "\n",
    "#### a) Find the most common reason for invalid Ballots\n",
    "#### b) Find the area with the greatest invalid Ballots\n",
    "#### c) Find the Region with the greatest invalid Ballots"
   ]
  },
  {
   "cell_type": "code",
   "execution_count": null,
   "id": "dd9fba75",
   "metadata": {},
   "outputs": [],
   "source": []
  }
 ],
 "metadata": {
  "kernelspec": {
   "display_name": "Python 3 (ipykernel)",
   "language": "python",
   "name": "python3"
  },
  "language_info": {
   "codemirror_mode": {
    "name": "ipython",
    "version": 3
   },
   "file_extension": ".py",
   "mimetype": "text/x-python",
   "name": "python",
   "nbconvert_exporter": "python",
   "pygments_lexer": "ipython3",
   "version": "3.9.5"
  }
 },
 "nbformat": 4,
 "nbformat_minor": 5
}
