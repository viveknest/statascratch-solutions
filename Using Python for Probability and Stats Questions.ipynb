{
 "cells": [
  {
   "cell_type": "markdown",
   "metadata": {},
   "source": [
    "## Using Python to solve Probability and Stats Questions"
   ]
  },
  {
   "cell_type": "code",
   "execution_count": 1,
   "metadata": {},
   "outputs": [],
   "source": [
    "# Import libraries\n",
    "import pandas as pd\n",
    "import numpy as np\n",
    "import itertools\n",
    "from scipy import stats\n",
    "import matplotlib.pyplot as plt\n",
    "import seaborn as sns\n",
    "from matplotlib import style\n",
    "style.use('ggplot')\n"
   ]
  },
  {
   "cell_type": "markdown",
   "metadata": {},
   "source": [
    "# Two Out Of Five (Easy)\n",
    "\n",
    " https://platform.stratascratch.com/technical/2283-two-out-of-five "
   ]
  },
  {
   "cell_type": "markdown",
   "metadata": {},
   "source": [
    "### Simulate 5 flips of a coin"
   ]
  },
  {
   "cell_type": "code",
   "execution_count": 2,
   "metadata": {},
   "outputs": [
    {
     "data": {
      "text/plain": [
       "[('H', 'H', 'H', 'H', 'H'),\n",
       " ('H', 'H', 'H', 'H', 'T'),\n",
       " ('H', 'H', 'H', 'T', 'H'),\n",
       " ('H', 'H', 'H', 'T', 'T'),\n",
       " ('H', 'H', 'T', 'H', 'H'),\n",
       " ('H', 'H', 'T', 'H', 'T'),\n",
       " ('H', 'H', 'T', 'T', 'H'),\n",
       " ('H', 'H', 'T', 'T', 'T'),\n",
       " ('H', 'T', 'H', 'H', 'H'),\n",
       " ('H', 'T', 'H', 'H', 'T')]"
      ]
     },
     "execution_count": 2,
     "metadata": {},
     "output_type": "execute_result"
    }
   ],
   "source": [
    "flips_5 = list(itertools.product('HT', repeat = 5))\n",
    "flips_5[:10]"
   ]
  },
  {
   "cell_type": "code",
   "execution_count": 3,
   "metadata": {},
   "outputs": [
    {
     "data": {
      "text/plain": [
       "32"
      ]
     },
     "execution_count": 3,
     "metadata": {},
     "output_type": "execute_result"
    }
   ],
   "source": [
    "len(flips_5)"
   ]
  },
  {
   "cell_type": "code",
   "execution_count": 4,
   "metadata": {},
   "outputs": [
    {
     "data": {
      "text/plain": [
       "[('H', 'H', 'H', 'T', 'T'),\n",
       " ('H', 'H', 'T', 'H', 'T'),\n",
       " ('H', 'H', 'T', 'T', 'H'),\n",
       " ('H', 'T', 'H', 'H', 'T'),\n",
       " ('H', 'T', 'H', 'T', 'H'),\n",
       " ('H', 'T', 'T', 'H', 'H'),\n",
       " ('T', 'H', 'H', 'H', 'T'),\n",
       " ('T', 'H', 'H', 'T', 'H'),\n",
       " ('T', 'H', 'T', 'H', 'H'),\n",
       " ('T', 'T', 'H', 'H', 'H')]"
      ]
     },
     "execution_count": 4,
     "metadata": {},
     "output_type": "execute_result"
    }
   ],
   "source": [
    "favorable_flips = [flip_outcome for flip_outcome in flips_5 if len(list(itertools.filterfalse(lambda x : x !='T', flip_outcome))) == 2]\n",
    "favorable_flips"
   ]
  },
  {
   "cell_type": "code",
   "execution_count": 5,
   "metadata": {},
   "outputs": [
    {
     "data": {
      "text/plain": [
       "10"
      ]
     },
     "execution_count": 5,
     "metadata": {},
     "output_type": "execute_result"
    }
   ],
   "source": [
    "len(favorable_flips)"
   ]
  },
  {
   "cell_type": "code",
   "execution_count": 6,
   "metadata": {},
   "outputs": [
    {
     "data": {
      "text/plain": [
       "0.3125"
      ]
     },
     "execution_count": 6,
     "metadata": {},
     "output_type": "execute_result"
    }
   ],
   "source": [
    "prob_2T_5flips = len(favorable_flips) / len(flips_5)\n",
    "prob_2T_5flips"
   ]
  },
  {
   "cell_type": "markdown",
   "metadata": {},
   "source": [
    "### Calculating with SciPy"
   ]
  },
  {
   "cell_type": "code",
   "execution_count": 7,
   "metadata": {},
   "outputs": [
    {
     "data": {
      "text/plain": [
       "0.3125"
      ]
     },
     "execution_count": 7,
     "metadata": {},
     "output_type": "execute_result"
    }
   ],
   "source": [
    "stats.binom.pmf(k = 2,n = 5, p = 0.5)"
   ]
  },
  {
   "cell_type": "markdown",
   "metadata": {},
   "source": [
    "### Simulating with NumPy"
   ]
  },
  {
   "cell_type": "code",
   "execution_count": 8,
   "metadata": {},
   "outputs": [
    {
     "data": {
      "text/plain": [
       "array([['T', 'T', 'H', 'T', 'T'],\n",
       "       ['T', 'H', 'H', 'T', 'T'],\n",
       "       ['T', 'H', 'H', 'T', 'H'],\n",
       "       ['H', 'T', 'T', 'T', 'H'],\n",
       "       ['H', 'T', 'H', 'T', 'H'],\n",
       "       ['H', 'H', 'T', 'T', 'H'],\n",
       "       ['T', 'T', 'T', 'T', 'H'],\n",
       "       ['T', 'T', 'T', 'T', 'H'],\n",
       "       ['T', 'H', 'T', 'T', 'H'],\n",
       "       ['H', 'T', 'T', 'T', 'H']], dtype='<U1')"
      ]
     },
     "execution_count": 8,
     "metadata": {},
     "output_type": "execute_result"
    }
   ],
   "source": [
    "outcomes = np.random.choice(['H', 'T'], (1000000, 5))\n",
    "outcomes[:10]"
   ]
  },
  {
   "cell_type": "code",
   "execution_count": 9,
   "metadata": {},
   "outputs": [
    {
     "data": {
      "text/plain": [
       "[array(['T', 'H', 'H', 'T', 'H'], dtype='<U1'),\n",
       " array(['H', 'T', 'H', 'T', 'H'], dtype='<U1'),\n",
       " array(['H', 'H', 'T', 'T', 'H'], dtype='<U1'),\n",
       " array(['T', 'H', 'T', 'H', 'H'], dtype='<U1'),\n",
       " array(['H', 'T', 'T', 'H', 'H'], dtype='<U1'),\n",
       " array(['H', 'H', 'T', 'H', 'T'], dtype='<U1'),\n",
       " array(['H', 'T', 'H', 'H', 'T'], dtype='<U1'),\n",
       " array(['H', 'T', 'H', 'H', 'T'], dtype='<U1'),\n",
       " array(['H', 'T', 'H', 'H', 'T'], dtype='<U1'),\n",
       " array(['H', 'T', 'H', 'T', 'H'], dtype='<U1')]"
      ]
     },
     "execution_count": 9,
     "metadata": {},
     "output_type": "execute_result"
    }
   ],
   "source": [
    "fav_outcomes = [outcome for outcome in outcomes if sum(outcome == 'T') == 2]\n",
    "fav_outcomes[:10]"
   ]
  },
  {
   "cell_type": "code",
   "execution_count": 10,
   "metadata": {},
   "outputs": [
    {
     "data": {
      "text/plain": [
       "0.311937"
      ]
     },
     "execution_count": 10,
     "metadata": {},
     "output_type": "execute_result"
    }
   ],
   "source": [
    "len(fav_outcomes) / len(outcomes)"
   ]
  },
  {
   "cell_type": "markdown",
   "metadata": {},
   "source": [
    "**The empirical Probability matches the Analytical one**"
   ]
  },
  {
   "cell_type": "markdown",
   "metadata": {},
   "source": [
    "### Simulating all possible cases with 5 flips of a coin"
   ]
  },
  {
   "cell_type": "code",
   "execution_count": 11,
   "metadata": {},
   "outputs": [
    {
     "data": {
      "text/plain": [
       "[31206, 156329, 311937, 312455, 156760, 31313]"
      ]
     },
     "execution_count": 11,
     "metadata": {},
     "output_type": "execute_result"
    }
   ],
   "source": [
    "all_scenarios = [len([outcome for outcome in outcomes if sum(outcome == 'T') == i]) for i in range(6)]\n",
    "all_scenarios"
   ]
  },
  {
   "cell_type": "code",
   "execution_count": 12,
   "metadata": {},
   "outputs": [
    {
     "data": {
      "text/plain": [
       "[0.031206, 0.156329, 0.311937, 0.312455, 0.15676, 0.031313]"
      ]
     },
     "execution_count": 12,
     "metadata": {},
     "output_type": "execute_result"
    }
   ],
   "source": [
    "all_probs = [scenario / len(outcomes) for scenario in all_scenarios]\n",
    "all_probs"
   ]
  },
  {
   "cell_type": "code",
   "execution_count": 13,
   "metadata": {},
   "outputs": [
    {
     "data": {
      "image/png": "[encoded data removed]",
      "text/plain": [
       "<Figure size 720x432 with 1 Axes>"
      ]
     },
     "metadata": {
      "needs_background": "light"
     },
     "output_type": "display_data"
    }
   ],
   "source": [
    "plt.figure(figsize = (10,6))\n",
    "plt.bar(x = np.arange(6), height = all_probs, color = 'Red',\n",
    "        alpha = 0.5, label = 'NumPy simulations')\n",
    "plt.scatter(np.arange(6), stats.binom.pmf(np.arange(6),n = 5, p = 0.5), marker = 'o',\n",
    "            s = 100, color = 'Blue', alpha = 0.5, label = 'SciPy calculations')\n",
    "plt.legend(fontsize = 12)\n",
    "plt.xlabel('Number of Tails', fontsize = 12)\n",
    "plt.ylabel('Probability', fontsize = 12)\n",
    "plt.title(\"Comparison of Analytical and Empirical Probabilities\", fontsize = 14)\n",
    "plt.show()"
   ]
  },
  {
   "cell_type": "code",
   "execution_count": null,
   "metadata": {},
   "outputs": [],
   "source": []
  },
  {
   "cell_type": "markdown",
   "metadata": {},
   "source": [
    "## Different Card (Medium)\n",
    "\n",
    "https://platform.stratascratch.com/technical/2001-different-card"
   ]
  },
  {
   "cell_type": "markdown",
   "metadata": {},
   "source": [
    "### Create the card deck"
   ]
  },
  {
   "cell_type": "code",
   "execution_count": 14,
   "metadata": {},
   "outputs": [
    {
     "data": {
      "text/plain": [
       "['2S',\n",
       " '3S',\n",
       " '4S',\n",
       " '5S',\n",
       " '6S',\n",
       " '7S',\n",
       " '8S',\n",
       " '9S',\n",
       " 'TS',\n",
       " 'JS',\n",
       " 'QS',\n",
       " 'KS',\n",
       " 'AS',\n",
       " '2C',\n",
       " '3C',\n",
       " '4C',\n",
       " '5C',\n",
       " '6C',\n",
       " '7C',\n",
       " '8C']"
      ]
     },
     "execution_count": 14,
     "metadata": {},
     "output_type": "execute_result"
    }
   ],
   "source": [
    "suits = ['S', 'C', 'D', 'H']\n",
    "ranks = [2, 3 ,4, 5, 6, 7, 8, 9 , 'T', 'J', 'Q', 'K' , 'A']\n",
    "cards = [str(rank) + suit for suit in suits for rank in ranks]\n",
    "cards[:20]"
   ]
  },
  {
   "cell_type": "code",
   "execution_count": 15,
   "metadata": {},
   "outputs": [
    {
     "data": {
      "text/plain": [
       "52"
      ]
     },
     "execution_count": 15,
     "metadata": {},
     "output_type": "execute_result"
    }
   ],
   "source": [
    "len(cards)"
   ]
  },
  {
   "cell_type": "markdown",
   "metadata": {},
   "source": [
    "### Calculate All Possible Cases"
   ]
  },
  {
   "cell_type": "code",
   "execution_count": 16,
   "metadata": {},
   "outputs": [
    {
     "data": {
      "text/plain": [
       "2652"
      ]
     },
     "execution_count": 16,
     "metadata": {},
     "output_type": "execute_result"
    }
   ],
   "source": [
    "outcomes = list(itertools.permutations(cards, 2))\n",
    "len(outcomes)"
   ]
  },
  {
   "cell_type": "markdown",
   "metadata": {},
   "source": [
    "### Unfavorable Cases"
   ]
  },
  {
   "cell_type": "code",
   "execution_count": 17,
   "metadata": {},
   "outputs": [
    {
     "data": {
      "text/plain": [
       "624"
      ]
     },
     "execution_count": 17,
     "metadata": {},
     "output_type": "execute_result"
    }
   ],
   "source": [
    "unfavorable_cases = len(list(itertools.permutations(suits, 1))) * len(list(itertools.permutations(ranks, 2)))\n",
    "unfavorable_cases"
   ]
  },
  {
   "cell_type": "code",
   "execution_count": 18,
   "metadata": {},
   "outputs": [
    {
     "data": {
      "text/plain": [
       "0.7647058823529411"
      ]
     },
     "execution_count": 18,
     "metadata": {},
     "output_type": "execute_result"
    }
   ],
   "source": [
    "probability = 1 - unfavorable_cases / len(outcomes)\n",
    "probability"
   ]
  },
  {
   "cell_type": "markdown",
   "metadata": {},
   "source": [
    "### Simulating with NumPy"
   ]
  },
  {
   "cell_type": "code",
   "execution_count": 19,
   "metadata": {},
   "outputs": [
    {
     "data": {
      "text/plain": [
       "array([['QC', '3D'],\n",
       "       ['5C', 'JS'],\n",
       "       ['3H', 'AH'],\n",
       "       ['KS', '6C'],\n",
       "       ['7S', '5C'],\n",
       "       ['KC', 'KS'],\n",
       "       ['4S', '3D'],\n",
       "       ['4S', 'TD'],\n",
       "       ['5H', '8D'],\n",
       "       ['5C', '8S']], dtype='<U2')"
      ]
     },
     "execution_count": 19,
     "metadata": {},
     "output_type": "execute_result"
    }
   ],
   "source": [
    "any_two_cards = np.random.choice(cards, (1000000,2))\n",
    "any_two_cards[:10]"
   ]
  },
  {
   "cell_type": "code",
   "execution_count": 20,
   "metadata": {},
   "outputs": [
    {
     "data": {
      "text/plain": [
       "[array(['3H', 'AH'], dtype='<U2'),\n",
       " array(['TC', '5C'], dtype='<U2'),\n",
       " array(['QH', '6H'], dtype='<U2'),\n",
       " array(['9C', 'TC'], dtype='<U2'),\n",
       " array(['4S', '8S'], dtype='<U2'),\n",
       " array(['8D', '9D'], dtype='<U2'),\n",
       " array(['7C', '7C'], dtype='<U2'),\n",
       " array(['9D', 'AD'], dtype='<U2'),\n",
       " array(['QD', 'QD'], dtype='<U2'),\n",
       " array(['AD', '8D'], dtype='<U2')]"
      ]
     },
     "execution_count": 20,
     "metadata": {},
     "output_type": "execute_result"
    }
   ],
   "source": [
    "unfavorable_cases = [selection for selection in any_two_cards if (selection[0][-1] == selection[-1][-1]) ]\n",
    "unfavorable_cases[:10]"
   ]
  },
  {
   "cell_type": "code",
   "execution_count": 21,
   "metadata": {},
   "outputs": [
    {
     "data": {
      "text/plain": [
       "0.749957"
      ]
     },
     "execution_count": 21,
     "metadata": {},
     "output_type": "execute_result"
    }
   ],
   "source": [
    "emp_probability = 1 - (len(unfavorable_cases) / len(any_two_cards))\n",
    "emp_probability"
   ]
  },
  {
   "cell_type": "markdown",
   "metadata": {},
   "source": [
    "**The empirical probability is close to the analytical probability**"
   ]
  },
  {
   "cell_type": "markdown",
   "metadata": {},
   "source": [
    "## Dice with 12 Faces (Hard)\n",
    "\n",
    "https://platform.stratascratch.com/technical/2280-dice-with-12-faces"
   ]
  },
  {
   "cell_type": "markdown",
   "metadata": {},
   "source": [
    "### Simulate 1 million rolls of the biased die"
   ]
  },
  {
   "cell_type": "code",
   "execution_count": 22,
   "metadata": {},
   "outputs": [],
   "source": [
    "outcomes = np.random.choice(np.arange(1,13), size = 1000000, p = np.array([0.6/11] * 11 + [0.4]))"
   ]
  },
  {
   "cell_type": "code",
   "execution_count": 23,
   "metadata": {},
   "outputs": [
    {
     "data": {
      "image/png": "[encoded data removed]",
      "text/plain": [
       "<Figure size 720x432 with 1 Axes>"
      ]
     },
     "metadata": {
      "needs_background": "light"
     },
     "output_type": "display_data"
    }
   ],
   "source": [
    "plt.figure(figsize = (10,6))\n",
    "plt.hist(outcomes, bins = 12)\n",
    "plt.xlabel(\"Outcome\", fontsize = 12)\n",
    "plt.ylabel(\"Frequency\", fontsize = 12)\n",
    "plt.title(\"Distribution of 1,000,000 rolls of the loaded die\", fontsize = 14)\n",
    "plt.show()"
   ]
  },
  {
   "cell_type": "markdown",
   "metadata": {},
   "source": [
    "### Calculate wins and losses for each scenario"
   ]
  },
  {
   "cell_type": "code",
   "execution_count": 24,
   "metadata": {},
   "outputs": [
    {
     "data": {
      "text/html": [
       "<div>\n",
       "<style scoped>\n",
       "    .dataframe tbody tr th:only-of-type {\n",
       "        vertical-align: middle;\n",
       "    }\n",
       "\n",
       "    .dataframe tbody tr th {\n",
       "        vertical-align: top;\n",
       "    }\n",
       "\n",
       "    .dataframe thead th {\n",
       "        text-align: right;\n",
       "    }\n",
       "</style>\n",
       "<table border=\"1\" class=\"dataframe\">\n",
       "  <thead>\n",
       "    <tr style=\"text-align: right;\">\n",
       "      <th></th>\n",
       "      <th>my_choice</th>\n",
       "      <th>opp_choice</th>\n",
       "      <th>wins</th>\n",
       "      <th>losses</th>\n",
       "      <th>ties</th>\n",
       "      <th>better_choice</th>\n",
       "    </tr>\n",
       "  </thead>\n",
       "  <tbody>\n",
       "    <tr>\n",
       "      <th>0</th>\n",
       "      <td>1</td>\n",
       "      <td>2</td>\n",
       "      <td>54639</td>\n",
       "      <td>945361</td>\n",
       "      <td>0</td>\n",
       "      <td>False</td>\n",
       "    </tr>\n",
       "    <tr>\n",
       "      <th>1</th>\n",
       "      <td>1</td>\n",
       "      <td>3</td>\n",
       "      <td>54639</td>\n",
       "      <td>890771</td>\n",
       "      <td>54590</td>\n",
       "      <td>False</td>\n",
       "    </tr>\n",
       "    <tr>\n",
       "      <th>2</th>\n",
       "      <td>1</td>\n",
       "      <td>4</td>\n",
       "      <td>109229</td>\n",
       "      <td>890771</td>\n",
       "      <td>0</td>\n",
       "      <td>False</td>\n",
       "    </tr>\n",
       "    <tr>\n",
       "      <th>3</th>\n",
       "      <td>1</td>\n",
       "      <td>5</td>\n",
       "      <td>109229</td>\n",
       "      <td>836294</td>\n",
       "      <td>54477</td>\n",
       "      <td>False</td>\n",
       "    </tr>\n",
       "    <tr>\n",
       "      <th>4</th>\n",
       "      <td>1</td>\n",
       "      <td>6</td>\n",
       "      <td>163706</td>\n",
       "      <td>836294</td>\n",
       "      <td>0</td>\n",
       "      <td>False</td>\n",
       "    </tr>\n",
       "    <tr>\n",
       "      <th>...</th>\n",
       "      <td>...</td>\n",
       "      <td>...</td>\n",
       "      <td>...</td>\n",
       "      <td>...</td>\n",
       "      <td>...</td>\n",
       "      <td>...</td>\n",
       "    </tr>\n",
       "    <tr>\n",
       "      <th>127</th>\n",
       "      <td>12</td>\n",
       "      <td>7</td>\n",
       "      <td>509975</td>\n",
       "      <td>490025</td>\n",
       "      <td>0</td>\n",
       "      <td>True</td>\n",
       "    </tr>\n",
       "    <tr>\n",
       "      <th>128</th>\n",
       "      <td>12</td>\n",
       "      <td>8</td>\n",
       "      <td>455159</td>\n",
       "      <td>490025</td>\n",
       "      <td>54816</td>\n",
       "      <td>False</td>\n",
       "    </tr>\n",
       "    <tr>\n",
       "      <th>129</th>\n",
       "      <td>12</td>\n",
       "      <td>9</td>\n",
       "      <td>455159</td>\n",
       "      <td>544841</td>\n",
       "      <td>0</td>\n",
       "      <td>False</td>\n",
       "    </tr>\n",
       "    <tr>\n",
       "      <th>130</th>\n",
       "      <td>12</td>\n",
       "      <td>10</td>\n",
       "      <td>400008</td>\n",
       "      <td>544841</td>\n",
       "      <td>55151</td>\n",
       "      <td>False</td>\n",
       "    </tr>\n",
       "    <tr>\n",
       "      <th>131</th>\n",
       "      <td>12</td>\n",
       "      <td>11</td>\n",
       "      <td>400008</td>\n",
       "      <td>599992</td>\n",
       "      <td>0</td>\n",
       "      <td>False</td>\n",
       "    </tr>\n",
       "  </tbody>\n",
       "</table>\n",
       "<p>132 rows × 6 columns</p>\n",
       "</div>"
      ],
      "text/plain": [
       "     my_choice  opp_choice    wins  losses   ties  better_choice\n",
       "0            1           2   54639  945361      0          False\n",
       "1            1           3   54639  890771  54590          False\n",
       "2            1           4  109229  890771      0          False\n",
       "3            1           5  109229  836294  54477          False\n",
       "4            1           6  163706  836294      0          False\n",
       "..         ...         ...     ...     ...    ...            ...\n",
       "127         12           7  509975  490025      0           True\n",
       "128         12           8  455159  490025  54816          False\n",
       "129         12           9  455159  544841      0          False\n",
       "130         12          10  400008  544841  55151          False\n",
       "131         12          11  400008  599992      0          False\n",
       "\n",
       "[132 rows x 6 columns]"
      ]
     },
     "execution_count": 24,
     "metadata": {},
     "output_type": "execute_result"
    }
   ],
   "source": [
    "choices = list(itertools.permutations(np.arange(1,13), 2))\n",
    "results = []\n",
    "for choice in choices:\n",
    "    wins = (abs(outcomes - choice[0] ) < abs(outcomes - choice[1] )).sum()\n",
    "    losses = (abs(outcomes - choice[0] ) > abs(outcomes - choice[1] )).sum()\n",
    "    ties =  (abs(outcomes - choice[0] ) == abs(outcomes - choice[1] )).sum()\n",
    "    results.append([choice[0], choice[1], wins, losses, ties])\n",
    "    \n",
    "results_df = pd.DataFrame(results, columns = ['my_choice', 'opp_choice', 'wins', 'losses', 'ties'])\n",
    "results_df['better_choice'] = results_df['wins'] > results_df['losses']\n",
    "results_df"
   ]
  },
  {
   "cell_type": "code",
   "execution_count": 25,
   "metadata": {},
   "outputs": [
    {
     "data": {
      "text/html": [
       "<div>\n",
       "<style scoped>\n",
       "    .dataframe tbody tr th:only-of-type {\n",
       "        vertical-align: middle;\n",
       "    }\n",
       "\n",
       "    .dataframe tbody tr th {\n",
       "        vertical-align: top;\n",
       "    }\n",
       "\n",
       "    .dataframe thead th {\n",
       "        text-align: right;\n",
       "    }\n",
       "</style>\n",
       "<table border=\"1\" class=\"dataframe\">\n",
       "  <thead>\n",
       "    <tr style=\"text-align: right;\">\n",
       "      <th></th>\n",
       "      <th>wins</th>\n",
       "      <th>losses</th>\n",
       "      <th>ties</th>\n",
       "      <th>better_choice</th>\n",
       "    </tr>\n",
       "    <tr>\n",
       "      <th>my_choice</th>\n",
       "      <th></th>\n",
       "      <th></th>\n",
       "      <th></th>\n",
       "      <th></th>\n",
       "    </tr>\n",
       "  </thead>\n",
       "  <tbody>\n",
       "    <tr>\n",
       "      <th>1</th>\n",
       "      <td>1964311</td>\n",
       "      <td>8763369</td>\n",
       "      <td>272320</td>\n",
       "      <td>0</td>\n",
       "    </tr>\n",
       "    <tr>\n",
       "      <th>2</th>\n",
       "      <td>3127353</td>\n",
       "      <td>7600603</td>\n",
       "      <td>272044</td>\n",
       "      <td>1</td>\n",
       "    </tr>\n",
       "    <tr>\n",
       "      <th>3</th>\n",
       "      <td>4126349</td>\n",
       "      <td>6601494</td>\n",
       "      <td>272157</td>\n",
       "      <td>2</td>\n",
       "    </tr>\n",
       "    <tr>\n",
       "      <th>4</th>\n",
       "      <td>4962027</td>\n",
       "      <td>5766030</td>\n",
       "      <td>271943</td>\n",
       "      <td>3</td>\n",
       "    </tr>\n",
       "    <tr>\n",
       "      <th>5</th>\n",
       "      <td>5633747</td>\n",
       "      <td>5094143</td>\n",
       "      <td>272110</td>\n",
       "      <td>4</td>\n",
       "    </tr>\n",
       "    <tr>\n",
       "      <th>6</th>\n",
       "      <td>6142136</td>\n",
       "      <td>4585727</td>\n",
       "      <td>272137</td>\n",
       "      <td>5</td>\n",
       "    </tr>\n",
       "    <tr>\n",
       "      <th>7</th>\n",
       "      <td>6488031</td>\n",
       "      <td>4239964</td>\n",
       "      <td>272005</td>\n",
       "      <td>6</td>\n",
       "    </tr>\n",
       "    <tr>\n",
       "      <th>8</th>\n",
       "      <td>6671289</td>\n",
       "      <td>4056713</td>\n",
       "      <td>271998</td>\n",
       "      <td>8</td>\n",
       "    </tr>\n",
       "    <tr>\n",
       "      <th>9</th>\n",
       "      <td>6691291</td>\n",
       "      <td>4036427</td>\n",
       "      <td>272282</td>\n",
       "      <td>10</td>\n",
       "    </tr>\n",
       "    <tr>\n",
       "      <th>10</th>\n",
       "      <td>6548809</td>\n",
       "      <td>4178792</td>\n",
       "      <td>272399</td>\n",
       "      <td>11</td>\n",
       "    </tr>\n",
       "    <tr>\n",
       "      <th>11</th>\n",
       "      <td>6242214</td>\n",
       "      <td>4485722</td>\n",
       "      <td>272064</td>\n",
       "      <td>9</td>\n",
       "    </tr>\n",
       "    <tr>\n",
       "      <th>12</th>\n",
       "      <td>5769197</td>\n",
       "      <td>4957770</td>\n",
       "      <td>273033</td>\n",
       "      <td>7</td>\n",
       "    </tr>\n",
       "  </tbody>\n",
       "</table>\n",
       "</div>"
      ],
      "text/plain": [
       "              wins   losses    ties  better_choice\n",
       "my_choice                                         \n",
       "1          1964311  8763369  272320              0\n",
       "2          3127353  7600603  272044              1\n",
       "3          4126349  6601494  272157              2\n",
       "4          4962027  5766030  271943              3\n",
       "5          5633747  5094143  272110              4\n",
       "6          6142136  4585727  272137              5\n",
       "7          6488031  4239964  272005              6\n",
       "8          6671289  4056713  271998              8\n",
       "9          6691291  4036427  272282             10\n",
       "10         6548809  4178792  272399             11\n",
       "11         6242214  4485722  272064              9\n",
       "12         5769197  4957770  273033              7"
      ]
     },
     "execution_count": 25,
     "metadata": {},
     "output_type": "execute_result"
    }
   ],
   "source": [
    "summ_df = results_df[['my_choice', 'wins', 'losses', 'ties', 'better_choice']].groupby(by = ['my_choice']).sum()\n",
    "summ_df"
   ]
  },
  {
   "cell_type": "markdown",
   "metadata": {},
   "source": [
    "**The best choices for us and our opponent are 10 and 9 respectively**"
   ]
  }
 ],
 "metadata": {
  "kernelspec": {
   "display_name": "Python 3",
   "language": "python",
   "name": "python3"
  },
  "language_info": {
   "codemirror_mode": {
    "name": "ipython",
    "version": 3
   },
   "file_extension": ".py",
   "mimetype": "text/x-python",
   "name": "python",
   "nbconvert_exporter": "python",
   "pygments_lexer": "ipython3",
   "version": "3.7.4"
  }
 },
 "nbformat": 4,
 "nbformat_minor": 2
}
