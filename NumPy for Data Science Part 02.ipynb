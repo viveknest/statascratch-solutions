{
 "cells": [
  {
   "cell_type": "markdown",
   "id": "78e5c94f",
   "metadata": {},
   "source": [
    "## NumPy for Data Science Part 02"
   ]
  },
  {
   "cell_type": "code",
   "execution_count": 1,
   "id": "9a2b3d6b",
   "metadata": {},
   "outputs": [],
   "source": [
    "import numpy as np"
   ]
  },
  {
   "cell_type": "markdown",
   "id": "c4547a2e",
   "metadata": {},
   "source": [
    "### Random Number Generation"
   ]
  },
  {
   "cell_type": "markdown",
   "id": "3b7ecca4",
   "metadata": {},
   "source": [
    "```rand``` returns a random number from uniform distribution in the range ```[0, 1]```"
   ]
  },
  {
   "cell_type": "code",
   "execution_count": 2,
   "id": "2909afd2",
   "metadata": {},
   "outputs": [
    {
     "data": {
      "text/plain": [
       "0.008305751553221774"
      ]
     },
     "execution_count": 2,
     "metadata": {},
     "output_type": "execute_result"
    }
   ],
   "source": [
    "np.random.rand()"
   ]
  },
  {
   "cell_type": "code",
   "execution_count": 3,
   "id": "2b1858c3",
   "metadata": {},
   "outputs": [
    {
     "data": {
      "text/plain": [
       "array([0.03246139, 0.41410126, 0.96956026, 0.43218461, 0.3212331 ,\n",
       "       0.98749094, 0.83184371, 0.33608471, 0.98037176, 0.03072824])"
      ]
     },
     "execution_count": 3,
     "metadata": {},
     "output_type": "execute_result"
    }
   ],
   "source": [
    "np.random.rand(10)"
   ]
  },
  {
   "cell_type": "code",
   "execution_count": 4,
   "id": "82fc05fd",
   "metadata": {},
   "outputs": [
    {
     "data": {
      "text/plain": [
       "array([[0.65233864, 0.00659963, 0.60412613, 0.85469298, 0.95456249],\n",
       "       [0.25876255, 0.12360838, 0.20899371, 0.9162027 , 0.74732087],\n",
       "       [0.97992517, 0.1444538 , 0.47195618, 0.38424683, 0.93320447]])"
      ]
     },
     "execution_count": 4,
     "metadata": {},
     "output_type": "execute_result"
    }
   ],
   "source": [
    "np.random.rand(3,5)"
   ]
  },
  {
   "cell_type": "markdown",
   "id": "691cfb41",
   "metadata": {},
   "source": [
    "```randint(low, high=None, size)``` : genrate random integers in the range low(inclusive), high (exclusive) "
   ]
  },
  {
   "cell_type": "code",
   "execution_count": 5,
   "id": "1a6931cc",
   "metadata": {},
   "outputs": [
    {
     "data": {
      "text/plain": [
       "0"
      ]
     },
     "execution_count": 5,
     "metadata": {},
     "output_type": "execute_result"
    }
   ],
   "source": [
    "np.random.randint(4)"
   ]
  },
  {
   "cell_type": "code",
   "execution_count": 6,
   "id": "bb279a01",
   "metadata": {},
   "outputs": [
    {
     "data": {
      "text/plain": [
       "4"
      ]
     },
     "execution_count": 6,
     "metadata": {},
     "output_type": "execute_result"
    }
   ],
   "source": [
    "np.random.randint(1,6)"
   ]
  },
  {
   "cell_type": "code",
   "execution_count": 7,
   "id": "cad9cd0f",
   "metadata": {},
   "outputs": [
    {
     "data": {
      "text/plain": [
       "array([5, 3, 1, 1, 3, 1, 4, 4, 2, 4])"
      ]
     },
     "execution_count": 7,
     "metadata": {},
     "output_type": "execute_result"
    }
   ],
   "source": [
    "np.random.randint(1,6, 10)"
   ]
  },
  {
   "cell_type": "code",
   "execution_count": 8,
   "id": "6d49d105",
   "metadata": {},
   "outputs": [
    {
     "data": {
      "text/plain": [
       "array([[1, 1, 2],\n",
       "       [4, 4, 3],\n",
       "       [3, 4, 5],\n",
       "       [5, 3, 4],\n",
       "       [4, 1, 5]])"
      ]
     },
     "execution_count": 8,
     "metadata": {},
     "output_type": "execute_result"
    }
   ],
   "source": [
    "np.random.randint(1,6, (5,3))"
   ]
  },
  {
   "cell_type": "markdown",
   "id": "9ed9e636",
   "metadata": {},
   "source": [
    "#### Sampling from an array\n",
    "\n",
    "```choice```"
   ]
  },
  {
   "cell_type": "code",
   "execution_count": 9,
   "id": "34b6a405",
   "metadata": {},
   "outputs": [
    {
     "data": {
      "text/plain": [
       "array(['Black', 'Black', 'Cyan', 'Black', 'Cyan'], dtype='<U6')"
      ]
     },
     "execution_count": 9,
     "metadata": {},
     "output_type": "execute_result"
    }
   ],
   "source": [
    "color_list = ['Red', 'Blue', 'Green', 'Orange', 'Violet', 'Pink', 'Indigo', 'White', 'Cyan', 'Black' ]\n",
    "np.random.choice(color_list, 5)"
   ]
  },
  {
   "cell_type": "code",
   "execution_count": 10,
   "id": "7cd342bf",
   "metadata": {},
   "outputs": [
    {
     "data": {
      "text/plain": [
       "array(['Black', 'Pink', 'Red', 'Indigo', 'Blue'], dtype='<U6')"
      ]
     },
     "execution_count": 10,
     "metadata": {},
     "output_type": "execute_result"
    }
   ],
   "source": [
    "# Using replace = False to avoid repetitions\n",
    "np.random.choice(color_list, 5, replace = False)"
   ]
  },
  {
   "cell_type": "code",
   "execution_count": 11,
   "id": "8e73eecf",
   "metadata": {},
   "outputs": [
    {
     "ename": "ValueError",
     "evalue": "Cannot take a larger sample than population when 'replace=False'",
     "output_type": "error",
     "traceback": [
      "\u001b[1;31m---------------------------------------------------------------------------\u001b[0m",
      "\u001b[1;31mValueError\u001b[0m                                Traceback (most recent call last)",
      "\u001b[1;32m~\\AppData\\Local\\Temp/ipykernel_9040/2963984956.py\u001b[0m in \u001b[0;36m<module>\u001b[1;34m\u001b[0m\n\u001b[0;32m      1\u001b[0m \u001b[1;31m# Error when sample is more than the population\u001b[0m\u001b[1;33m\u001b[0m\u001b[1;33m\u001b[0m\u001b[1;33m\u001b[0m\u001b[0m\n\u001b[1;32m----> 2\u001b[1;33m \u001b[0mnp\u001b[0m\u001b[1;33m.\u001b[0m\u001b[0mrandom\u001b[0m\u001b[1;33m.\u001b[0m\u001b[0mchoice\u001b[0m\u001b[1;33m(\u001b[0m\u001b[0mcolor_list\u001b[0m\u001b[1;33m,\u001b[0m \u001b[1;36m15\u001b[0m\u001b[1;33m,\u001b[0m \u001b[0mreplace\u001b[0m \u001b[1;33m=\u001b[0m \u001b[1;32mFalse\u001b[0m\u001b[1;33m)\u001b[0m\u001b[1;33m\u001b[0m\u001b[1;33m\u001b[0m\u001b[0m\n\u001b[0m",
      "\u001b[1;32mmtrand.pyx\u001b[0m in \u001b[0;36mnumpy.random.mtrand.RandomState.choice\u001b[1;34m()\u001b[0m\n",
      "\u001b[1;31mValueError\u001b[0m: Cannot take a larger sample than population when 'replace=False'"
     ]
    }
   ],
   "source": [
    "# Error when sample is more than the population\n",
    "np.random.choice(color_list, 15, replace = False)"
   ]
  },
  {
   "cell_type": "markdown",
   "id": "7044c915",
   "metadata": {},
   "source": [
    "#### Freezing the Random State"
   ]
  },
  {
   "cell_type": "code",
   "execution_count": 12,
   "id": "63deecdb",
   "metadata": {},
   "outputs": [
    {
     "data": {
      "text/plain": [
       "array(['White', 'Blue', 'Black', 'Cyan', 'Indigo'], dtype='<U6')"
      ]
     },
     "execution_count": 12,
     "metadata": {},
     "output_type": "execute_result"
    }
   ],
   "source": [
    "# without freezing : each time you execute this cell, you might get a different result\n",
    "np.random.choice(color_list, 5, replace = False)"
   ]
  },
  {
   "cell_type": "code",
   "execution_count": 13,
   "id": "097f2028",
   "metadata": {},
   "outputs": [
    {
     "data": {
      "text/plain": [
       "array(['Orange', 'Cyan', 'Pink', 'Violet', 'Black'], dtype='<U6')"
      ]
     },
     "execution_count": 13,
     "metadata": {},
     "output_type": "execute_result"
    }
   ],
   "source": [
    "np.random.choice(color_list, 5, replace = False)"
   ]
  },
  {
   "cell_type": "code",
   "execution_count": 14,
   "id": "51df8dd4",
   "metadata": {},
   "outputs": [
    {
     "data": {
      "text/plain": [
       "array(['Green', 'Blue', 'Orange', 'Pink', 'White'], dtype='<U6')"
      ]
     },
     "execution_count": 14,
     "metadata": {},
     "output_type": "execute_result"
    }
   ],
   "source": [
    "np.random.choice(color_list, 5, replace = False)"
   ]
  },
  {
   "cell_type": "code",
   "execution_count": 15,
   "id": "a01328c3",
   "metadata": {},
   "outputs": [
    {
     "data": {
      "text/plain": [
       "array(['Cyan', 'Blue', 'Pink', 'Red', 'White'], dtype='<U6')"
      ]
     },
     "execution_count": 15,
     "metadata": {},
     "output_type": "execute_result"
    }
   ],
   "source": [
    "# If we fix the random state, we will get the same sequence over and over again\n",
    "np.random.RandomState(42).choice(color_list, 5, replace = False)"
   ]
  },
  {
   "cell_type": "code",
   "execution_count": 16,
   "id": "56e2aac9",
   "metadata": {},
   "outputs": [
    {
     "data": {
      "text/plain": [
       "array(['Cyan', 'Blue', 'Pink', 'Red', 'White'], dtype='<U6')"
      ]
     },
     "execution_count": 16,
     "metadata": {},
     "output_type": "execute_result"
    }
   ],
   "source": [
    "np.random.RandomState(42).choice(color_list, 5, replace = False)"
   ]
  },
  {
   "cell_type": "code",
   "execution_count": 17,
   "id": "4d932c23",
   "metadata": {},
   "outputs": [
    {
     "data": {
      "text/plain": [
       "array(['Cyan', 'Blue', 'Pink', 'Red', 'White'], dtype='<U6')"
      ]
     },
     "execution_count": 17,
     "metadata": {},
     "output_type": "execute_result"
    }
   ],
   "source": [
    "np.random.RandomState(42).choice(color_list, 5, replace = False)"
   ]
  },
  {
   "cell_type": "markdown",
   "id": "5af9575a",
   "metadata": {},
   "source": [
    "#### Shuffling"
   ]
  },
  {
   "cell_type": "code",
   "execution_count": 18,
   "id": "1d6fe576",
   "metadata": {},
   "outputs": [
    {
     "data": {
      "text/plain": [
       "array([ 1,  2,  3,  4,  5,  6,  7,  8,  9, 10])"
      ]
     },
     "execution_count": 18,
     "metadata": {},
     "output_type": "execute_result"
    }
   ],
   "source": [
    "my_ar = np.arange(1,11)\n",
    "my_ar"
   ]
  },
  {
   "cell_type": "code",
   "execution_count": 19,
   "id": "56cdc310",
   "metadata": {},
   "outputs": [
    {
     "data": {
      "text/plain": [
       "array([ 6,  3,  8, 10,  4,  2,  1,  9,  5,  7])"
      ]
     },
     "execution_count": 19,
     "metadata": {},
     "output_type": "execute_result"
    }
   ],
   "source": [
    "np.random.shuffle(my_ar)\n",
    "my_ar"
   ]
  },
  {
   "cell_type": "code",
   "execution_count": 20,
   "id": "116f1010",
   "metadata": {},
   "outputs": [
    {
     "data": {
      "text/plain": [
       "array([ 6,  7, 10,  8,  1,  9,  3,  4,  2,  5])"
      ]
     },
     "execution_count": 20,
     "metadata": {},
     "output_type": "execute_result"
    }
   ],
   "source": [
    "my_ar = np.arange(1,11)\n",
    "np.random.shuffle(my_ar)\n",
    "my_ar"
   ]
  },
  {
   "cell_type": "code",
   "execution_count": 21,
   "id": "73028348",
   "metadata": {},
   "outputs": [
    {
     "data": {
      "text/plain": [
       "array([ 7,  6,  2,  4,  5,  8, 10,  9,  1,  3])"
      ]
     },
     "execution_count": 21,
     "metadata": {},
     "output_type": "execute_result"
    }
   ],
   "source": [
    "my_ar = np.arange(1,11)\n",
    "np.random.shuffle(my_ar)\n",
    "my_ar"
   ]
  },
  {
   "cell_type": "markdown",
   "id": "54a5d1d9",
   "metadata": {},
   "source": [
    "-  Using ```RandomState``` to fix the shuffling"
   ]
  },
  {
   "cell_type": "code",
   "execution_count": 22,
   "id": "060cd5f0",
   "metadata": {},
   "outputs": [
    {
     "data": {
      "text/plain": [
       "array([ 1,  2,  3,  4,  5,  6,  7,  8,  9, 10])"
      ]
     },
     "execution_count": 22,
     "metadata": {},
     "output_type": "execute_result"
    }
   ],
   "source": [
    "# Using random state to fix the shuffling\n",
    "my_ar = np.arange(1,11)\n",
    "my_ar"
   ]
  },
  {
   "cell_type": "code",
   "execution_count": 23,
   "id": "e7354630",
   "metadata": {},
   "outputs": [
    {
     "data": {
      "text/plain": [
       "array([ 5,  1,  8,  6,  9,  4,  2,  7, 10,  3])"
      ]
     },
     "execution_count": 23,
     "metadata": {},
     "output_type": "execute_result"
    }
   ],
   "source": [
    "np.random.RandomState(123).shuffle(my_ar)\n",
    "my_ar"
   ]
  },
  {
   "cell_type": "code",
   "execution_count": 24,
   "id": "baeaa0c9",
   "metadata": {},
   "outputs": [
    {
     "data": {
      "text/plain": [
       "array([ 5,  1,  8,  6,  9,  4,  2,  7, 10,  3])"
      ]
     },
     "execution_count": 24,
     "metadata": {},
     "output_type": "execute_result"
    }
   ],
   "source": [
    "my_ar = np.arange(1,11)\n",
    "np.random.RandomState(123).shuffle(my_ar)\n",
    "my_ar"
   ]
  },
  {
   "cell_type": "code",
   "execution_count": 25,
   "id": "5a558075",
   "metadata": {},
   "outputs": [
    {
     "data": {
      "text/plain": [
       "array([ 5,  1,  8,  6,  9,  4,  2,  7, 10,  3])"
      ]
     },
     "execution_count": 25,
     "metadata": {},
     "output_type": "execute_result"
    }
   ],
   "source": [
    "my_ar = np.arange(1,11)\n",
    "np.random.RandomState(123).shuffle(my_ar)\n",
    "my_ar"
   ]
  },
  {
   "cell_type": "markdown",
   "id": "679525a6",
   "metadata": {},
   "source": [
    "### Array Operations\n",
    "\n",
    "#### Splitting an array"
   ]
  },
  {
   "cell_type": "code",
   "execution_count": 26,
   "id": "bcc721f9",
   "metadata": {},
   "outputs": [
    {
     "data": {
      "text/plain": [
       "array([31, 32, 33, 34, 35, 36, 37, 38, 39, 40, 41, 42, 43, 44, 45, 46, 47,\n",
       "       48, 49, 50, 51, 52, 53, 54, 55, 56, 57, 58, 59, 60])"
      ]
     },
     "execution_count": 26,
     "metadata": {},
     "output_type": "execute_result"
    }
   ],
   "source": [
    "my_ar = np.arange(31,61)\n",
    "my_ar"
   ]
  },
  {
   "cell_type": "code",
   "execution_count": 27,
   "id": "57fd7f79",
   "metadata": {},
   "outputs": [
    {
     "data": {
      "text/plain": [
       "[array([31, 32, 33, 34, 35, 36]),\n",
       " array([37, 38, 39, 40, 41, 42]),\n",
       " array([43, 44, 45, 46, 47, 48]),\n",
       " array([49, 50, 51, 52, 53, 54]),\n",
       " array([55, 56, 57, 58, 59, 60])]"
      ]
     },
     "execution_count": 27,
     "metadata": {},
     "output_type": "execute_result"
    }
   ],
   "source": [
    "np.split(my_ar, 5)"
   ]
  },
  {
   "cell_type": "code",
   "execution_count": 28,
   "id": "308c40e7",
   "metadata": {},
   "outputs": [
    {
     "ename": "ValueError",
     "evalue": "array split does not result in an equal division",
     "output_type": "error",
     "traceback": [
      "\u001b[1;31m---------------------------------------------------------------------------\u001b[0m",
      "\u001b[1;31mTypeError\u001b[0m                                 Traceback (most recent call last)",
      "\u001b[1;32mc:\\users\\asus\\appdata\\local\\programs\\python\\python39\\lib\\site-packages\\numpy\\lib\\shape_base.py\u001b[0m in \u001b[0;36msplit\u001b[1;34m(ary, indices_or_sections, axis)\u001b[0m\n\u001b[0;32m    866\u001b[0m     \u001b[1;32mtry\u001b[0m\u001b[1;33m:\u001b[0m\u001b[1;33m\u001b[0m\u001b[1;33m\u001b[0m\u001b[0m\n\u001b[1;32m--> 867\u001b[1;33m         \u001b[0mlen\u001b[0m\u001b[1;33m(\u001b[0m\u001b[0mindices_or_sections\u001b[0m\u001b[1;33m)\u001b[0m\u001b[1;33m\u001b[0m\u001b[1;33m\u001b[0m\u001b[0m\n\u001b[0m\u001b[0;32m    868\u001b[0m     \u001b[1;32mexcept\u001b[0m \u001b[0mTypeError\u001b[0m\u001b[1;33m:\u001b[0m\u001b[1;33m\u001b[0m\u001b[1;33m\u001b[0m\u001b[0m\n",
      "\u001b[1;31mTypeError\u001b[0m: object of type 'int' has no len()",
      "\nDuring handling of the above exception, another exception occurred:\n",
      "\u001b[1;31mValueError\u001b[0m                                Traceback (most recent call last)",
      "\u001b[1;32m~\\AppData\\Local\\Temp/ipykernel_9040/3446337543.py\u001b[0m in \u001b[0;36m<module>\u001b[1;34m\u001b[0m\n\u001b[0;32m      1\u001b[0m \u001b[1;31m# This will result in an error since the array cannot be split into equal parts\u001b[0m\u001b[1;33m\u001b[0m\u001b[1;33m\u001b[0m\u001b[1;33m\u001b[0m\u001b[0m\n\u001b[1;32m----> 2\u001b[1;33m \u001b[0mnp\u001b[0m\u001b[1;33m.\u001b[0m\u001b[0msplit\u001b[0m\u001b[1;33m(\u001b[0m\u001b[0mmy_ar\u001b[0m\u001b[1;33m,\u001b[0m \u001b[1;36m8\u001b[0m\u001b[1;33m)\u001b[0m\u001b[1;33m\u001b[0m\u001b[1;33m\u001b[0m\u001b[0m\n\u001b[0m",
      "\u001b[1;32m<__array_function__ internals>\u001b[0m in \u001b[0;36msplit\u001b[1;34m(*args, **kwargs)\u001b[0m\n",
      "\u001b[1;32mc:\\users\\asus\\appdata\\local\\programs\\python\\python39\\lib\\site-packages\\numpy\\lib\\shape_base.py\u001b[0m in \u001b[0;36msplit\u001b[1;34m(ary, indices_or_sections, axis)\u001b[0m\n\u001b[0;32m    870\u001b[0m         \u001b[0mN\u001b[0m \u001b[1;33m=\u001b[0m \u001b[0mary\u001b[0m\u001b[1;33m.\u001b[0m\u001b[0mshape\u001b[0m\u001b[1;33m[\u001b[0m\u001b[0maxis\u001b[0m\u001b[1;33m]\u001b[0m\u001b[1;33m\u001b[0m\u001b[1;33m\u001b[0m\u001b[0m\n\u001b[0;32m    871\u001b[0m         \u001b[1;32mif\u001b[0m \u001b[0mN\u001b[0m \u001b[1;33m%\u001b[0m \u001b[0msections\u001b[0m\u001b[1;33m:\u001b[0m\u001b[1;33m\u001b[0m\u001b[1;33m\u001b[0m\u001b[0m\n\u001b[1;32m--> 872\u001b[1;33m             raise ValueError(\n\u001b[0m\u001b[0;32m    873\u001b[0m                 'array split does not result in an equal division')\n\u001b[0;32m    874\u001b[0m     \u001b[1;32mreturn\u001b[0m \u001b[0marray_split\u001b[0m\u001b[1;33m(\u001b[0m\u001b[0mary\u001b[0m\u001b[1;33m,\u001b[0m \u001b[0mindices_or_sections\u001b[0m\u001b[1;33m,\u001b[0m \u001b[0maxis\u001b[0m\u001b[1;33m)\u001b[0m\u001b[1;33m\u001b[0m\u001b[1;33m\u001b[0m\u001b[0m\n",
      "\u001b[1;31mValueError\u001b[0m: array split does not result in an equal division"
     ]
    }
   ],
   "source": [
    "# This will result in an error since the array cannot be split into equal parts\n",
    "np.split(my_ar, 8)"
   ]
  },
  {
   "cell_type": "markdown",
   "id": "6f6cb197",
   "metadata": {},
   "source": [
    "To avoid equal division error, use ```array_split()``` method"
   ]
  },
  {
   "cell_type": "code",
   "execution_count": 30,
   "id": "c6276bc8",
   "metadata": {},
   "outputs": [
    {
     "data": {
      "text/plain": [
       "[array([31, 32, 33, 34]),\n",
       " array([35, 36, 37, 38]),\n",
       " array([39, 40, 41, 42]),\n",
       " array([43, 44, 45, 46]),\n",
       " array([47, 48, 49, 50]),\n",
       " array([51, 52, 53, 54]),\n",
       " array([55, 56, 57]),\n",
       " array([58, 59, 60])]"
      ]
     },
     "execution_count": 30,
     "metadata": {},
     "output_type": "execute_result"
    }
   ],
   "source": [
    "np.array_split(my_ar, 8)"
   ]
  },
  {
   "cell_type": "markdown",
   "id": "e4d0ea87",
   "metadata": {},
   "source": [
    "##### split at specific indices"
   ]
  },
  {
   "cell_type": "code",
   "execution_count": 31,
   "id": "3f1f23ec",
   "metadata": {},
   "outputs": [
    {
     "data": {
      "text/plain": [
       "[array([31, 32, 33, 34, 35]),\n",
       " array([36, 37, 38, 39, 40, 41, 42]),\n",
       " array([43, 44, 45]),\n",
       " array([46, 47, 48, 49, 50, 51, 52, 53, 54, 55, 56, 57, 58, 59, 60])]"
      ]
     },
     "execution_count": 31,
     "metadata": {},
     "output_type": "execute_result"
    }
   ],
   "source": [
    "np.split(my_ar, [5,12,15])"
   ]
  },
  {
   "cell_type": "markdown",
   "id": "f6e177cb",
   "metadata": {},
   "source": [
    "#### Splitting Multi-dimensional arrays\n",
    "\n",
    "```hsplit```"
   ]
  },
  {
   "cell_type": "code",
   "execution_count": 32,
   "id": "514715a8",
   "metadata": {},
   "outputs": [
    {
     "data": {
      "text/plain": [
       "array([[31, 32, 33, 34, 35, 36],\n",
       "       [37, 38, 39, 40, 41, 42],\n",
       "       [43, 44, 45, 46, 47, 48],\n",
       "       [49, 50, 51, 52, 53, 54],\n",
       "       [55, 56, 57, 58, 59, 60]])"
      ]
     },
     "execution_count": 32,
     "metadata": {},
     "output_type": "execute_result"
    }
   ],
   "source": [
    "ar2d = my_ar.reshape(5,6)\n",
    "ar2d"
   ]
  },
  {
   "cell_type": "code",
   "execution_count": 33,
   "id": "a8b5a562",
   "metadata": {},
   "outputs": [
    {
     "data": {
      "text/plain": [
       "[array([[31, 32],\n",
       "        [37, 38],\n",
       "        [43, 44],\n",
       "        [49, 50],\n",
       "        [55, 56]]),\n",
       " array([[33, 34],\n",
       "        [39, 40],\n",
       "        [45, 46],\n",
       "        [51, 52],\n",
       "        [57, 58]]),\n",
       " array([[35, 36],\n",
       "        [41, 42],\n",
       "        [47, 48],\n",
       "        [53, 54],\n",
       "        [59, 60]])]"
      ]
     },
     "execution_count": 33,
     "metadata": {},
     "output_type": "execute_result"
    }
   ],
   "source": [
    "np.hsplit(ar2d, [2,4])"
   ]
  },
  {
   "cell_type": "markdown",
   "id": "e2393969",
   "metadata": {},
   "source": [
    "```vsplit```"
   ]
  },
  {
   "cell_type": "code",
   "execution_count": 34,
   "id": "18c54509",
   "metadata": {},
   "outputs": [
    {
     "data": {
      "text/plain": [
       "[array([[31, 32, 33, 34, 35, 36]]),\n",
       " array([[37, 38, 39, 40, 41, 42],\n",
       "        [43, 44, 45, 46, 47, 48],\n",
       "        [49, 50, 51, 52, 53, 54]]),\n",
       " array([[55, 56, 57, 58, 59, 60]])]"
      ]
     },
     "execution_count": 34,
     "metadata": {},
     "output_type": "execute_result"
    }
   ],
   "source": [
    "np.vsplit(ar2d, [1,4])"
   ]
  },
  {
   "cell_type": "markdown",
   "id": "1c18161c",
   "metadata": {},
   "source": [
    "#### Combining Arrays"
   ]
  },
  {
   "cell_type": "markdown",
   "id": "31fb8e07",
   "metadata": {},
   "source": [
    "```stack```"
   ]
  },
  {
   "cell_type": "code",
   "execution_count": 35,
   "id": "7f10d33d",
   "metadata": {},
   "outputs": [
    {
     "data": {
      "text/plain": [
       "array([[5., 5., 5., 5.],\n",
       "       [5., 5., 5., 5.]])"
      ]
     },
     "execution_count": 35,
     "metadata": {},
     "output_type": "execute_result"
    }
   ],
   "source": [
    "ar01 = np.ones((2,4)) * 5\n",
    "ar01"
   ]
  },
  {
   "cell_type": "code",
   "execution_count": 36,
   "id": "3b0f85c9",
   "metadata": {},
   "outputs": [
    {
     "data": {
      "text/plain": [
       "array([[1., 1., 1., 1.],\n",
       "       [1., 1., 1., 1.]])"
      ]
     },
     "execution_count": 36,
     "metadata": {},
     "output_type": "execute_result"
    }
   ],
   "source": [
    "ar02 = np.ones((2,4))\n",
    "ar02               "
   ]
  },
  {
   "cell_type": "code",
   "execution_count": 37,
   "id": "5c5547b5",
   "metadata": {},
   "outputs": [
    {
     "data": {
      "text/plain": [
       "array([[3., 3., 3., 3.],\n",
       "       [3., 3., 3., 3.]])"
      ]
     },
     "execution_count": 37,
     "metadata": {},
     "output_type": "execute_result"
    }
   ],
   "source": [
    "ar03 = np.ones((2,4))*3\n",
    "ar03"
   ]
  },
  {
   "cell_type": "code",
   "execution_count": 38,
   "id": "de84a434",
   "metadata": {},
   "outputs": [
    {
     "data": {
      "text/plain": [
       "array([[[5., 5., 5., 5.],\n",
       "        [5., 5., 5., 5.]],\n",
       "\n",
       "       [[1., 1., 1., 1.],\n",
       "        [1., 1., 1., 1.]],\n",
       "\n",
       "       [[3., 3., 3., 3.],\n",
       "        [3., 3., 3., 3.]]])"
      ]
     },
     "execution_count": 38,
     "metadata": {},
     "output_type": "execute_result"
    }
   ],
   "source": [
    "np.stack([ar01,ar02,ar03], axis = 0)"
   ]
  },
  {
   "cell_type": "code",
   "execution_count": 39,
   "id": "f4e39133",
   "metadata": {},
   "outputs": [
    {
     "data": {
      "text/plain": [
       "array([[[5., 5., 5., 5.],\n",
       "        [1., 1., 1., 1.],\n",
       "        [3., 3., 3., 3.]],\n",
       "\n",
       "       [[5., 5., 5., 5.],\n",
       "        [1., 1., 1., 1.],\n",
       "        [3., 3., 3., 3.]]])"
      ]
     },
     "execution_count": 39,
     "metadata": {},
     "output_type": "execute_result"
    }
   ],
   "source": [
    "np.stack([ar01,ar02,ar03], axis = 1)"
   ]
  },
  {
   "cell_type": "code",
   "execution_count": 40,
   "id": "77953bcf",
   "metadata": {},
   "outputs": [
    {
     "data": {
      "text/plain": [
       "array([[[5., 1., 3.],\n",
       "        [5., 1., 3.],\n",
       "        [5., 1., 3.],\n",
       "        [5., 1., 3.]],\n",
       "\n",
       "       [[5., 1., 3.],\n",
       "        [5., 1., 3.],\n",
       "        [5., 1., 3.],\n",
       "        [5., 1., 3.]]])"
      ]
     },
     "execution_count": 40,
     "metadata": {},
     "output_type": "execute_result"
    }
   ],
   "source": [
    "np.stack([ar01,ar02,ar03], axis = 2)"
   ]
  },
  {
   "cell_type": "markdown",
   "id": "cad4f87e",
   "metadata": {},
   "source": [
    "```hstack```"
   ]
  },
  {
   "cell_type": "code",
   "execution_count": 41,
   "id": "1733037d",
   "metadata": {},
   "outputs": [
    {
     "data": {
      "text/plain": [
       "array([1, 2, 3, 4, 5])"
      ]
     },
     "execution_count": 41,
     "metadata": {},
     "output_type": "execute_result"
    }
   ],
   "source": [
    "ar01 = np.arange(1,6)\n",
    "ar01"
   ]
  },
  {
   "cell_type": "code",
   "execution_count": 42,
   "id": "6ade9da6",
   "metadata": {},
   "outputs": [
    {
     "data": {
      "text/plain": [
       "array([11, 12, 13, 14, 15])"
      ]
     },
     "execution_count": 42,
     "metadata": {},
     "output_type": "execute_result"
    }
   ],
   "source": [
    "ar02 = np.arange(11,16)\n",
    "ar02"
   ]
  },
  {
   "cell_type": "code",
   "execution_count": 43,
   "id": "e9f08a9a",
   "metadata": {},
   "outputs": [
    {
     "data": {
      "text/plain": [
       "array([ 1,  2,  3,  4,  5, 11, 12, 13, 14, 15])"
      ]
     },
     "execution_count": 43,
     "metadata": {},
     "output_type": "execute_result"
    }
   ],
   "source": [
    "np.hstack([ar01,ar02])"
   ]
  },
  {
   "cell_type": "code",
   "execution_count": 44,
   "id": "c806e3e1",
   "metadata": {},
   "outputs": [
    {
     "data": {
      "text/plain": [
       "array([[ 1, 11],\n",
       "       [ 2, 12],\n",
       "       [ 3, 13],\n",
       "       [ 4, 14],\n",
       "       [ 5, 15]])"
      ]
     },
     "execution_count": 44,
     "metadata": {},
     "output_type": "execute_result"
    }
   ],
   "source": [
    "np.hstack([ar01.reshape(-1,1), ar02.reshape(-1,1)])"
   ]
  },
  {
   "cell_type": "markdown",
   "id": "fe6ce725",
   "metadata": {},
   "source": [
    "```vstack```"
   ]
  },
  {
   "cell_type": "code",
   "execution_count": 45,
   "id": "a30f3893",
   "metadata": {},
   "outputs": [
    {
     "data": {
      "text/plain": [
       "array([[ 1,  2,  3,  4,  5],\n",
       "       [11, 12, 13, 14, 15]])"
      ]
     },
     "execution_count": 45,
     "metadata": {},
     "output_type": "execute_result"
    }
   ],
   "source": [
    "np.vstack([ar01,ar02])"
   ]
  },
  {
   "cell_type": "code",
   "execution_count": 46,
   "id": "ed93cf4a",
   "metadata": {},
   "outputs": [
    {
     "data": {
      "text/plain": [
       "array([[ 1],\n",
       "       [ 2],\n",
       "       [ 3],\n",
       "       [ 4],\n",
       "       [ 5],\n",
       "       [11],\n",
       "       [12],\n",
       "       [13],\n",
       "       [14],\n",
       "       [15]])"
      ]
     },
     "execution_count": 46,
     "metadata": {},
     "output_type": "execute_result"
    }
   ],
   "source": [
    "np.vstack([ar01.reshape(-1,1), ar02.reshape(-1,1)])"
   ]
  },
  {
   "cell_type": "markdown",
   "id": "955d6f12",
   "metadata": {},
   "source": [
    "### Handling Missing Values"
   ]
  },
  {
   "cell_type": "code",
   "execution_count": 47,
   "id": "80f2fe46",
   "metadata": {},
   "outputs": [
    {
     "data": {
      "text/plain": [
       "array([ 1., nan,  3.])"
      ]
     },
     "execution_count": 47,
     "metadata": {},
     "output_type": "execute_result"
    }
   ],
   "source": [
    "my_ar = np.array([1, np.nan, 3])\n",
    "my_ar"
   ]
  },
  {
   "cell_type": "code",
   "execution_count": 48,
   "id": "fc6a224f",
   "metadata": {},
   "outputs": [
    {
     "data": {
      "text/plain": [
       "nan"
      ]
     },
     "execution_count": 48,
     "metadata": {},
     "output_type": "execute_result"
    }
   ],
   "source": [
    "my_ar.sum()"
   ]
  },
  {
   "cell_type": "code",
   "execution_count": 49,
   "id": "eeb78581",
   "metadata": {},
   "outputs": [
    {
     "data": {
      "text/plain": [
       "array([[ 1., nan,  3.],\n",
       "       [ 4.,  5.,  6.]])"
      ]
     },
     "execution_count": 49,
     "metadata": {},
     "output_type": "execute_result"
    }
   ],
   "source": [
    "my2dar = np.array([[1, np.nan, 3],[4,5,6]])\n",
    "my2dar"
   ]
  },
  {
   "cell_type": "code",
   "execution_count": 50,
   "id": "59a8d0a3",
   "metadata": {},
   "outputs": [
    {
     "data": {
      "text/plain": [
       "array([ 5., nan,  9.])"
      ]
     },
     "execution_count": 50,
     "metadata": {},
     "output_type": "execute_result"
    }
   ],
   "source": [
    "my2dar.sum(axis = 0)"
   ]
  },
  {
   "cell_type": "code",
   "execution_count": 51,
   "id": "507ac646",
   "metadata": {},
   "outputs": [
    {
     "data": {
      "text/plain": [
       "array([nan, 15.])"
      ]
     },
     "execution_count": 51,
     "metadata": {},
     "output_type": "execute_result"
    }
   ],
   "source": [
    "my2dar.sum(axis = 1)"
   ]
  },
  {
   "cell_type": "markdown",
   "id": "06c6c438",
   "metadata": {},
   "source": [
    "#### NaN-safe functions"
   ]
  },
  {
   "cell_type": "code",
   "execution_count": 52,
   "id": "185690d1",
   "metadata": {},
   "outputs": [
    {
     "data": {
      "text/plain": [
       "4.0"
      ]
     },
     "execution_count": 52,
     "metadata": {},
     "output_type": "execute_result"
    }
   ],
   "source": [
    "np.nansum(my_ar)"
   ]
  },
  {
   "cell_type": "code",
   "execution_count": 53,
   "id": "197e79bd",
   "metadata": {},
   "outputs": [
    {
     "data": {
      "text/plain": [
       "array([5., 5., 9.])"
      ]
     },
     "execution_count": 53,
     "metadata": {},
     "output_type": "execute_result"
    }
   ],
   "source": [
    "np.nansum(my2dar, axis = 0)"
   ]
  },
  {
   "cell_type": "code",
   "execution_count": 54,
   "id": "afb481ec",
   "metadata": {},
   "outputs": [
    {
     "data": {
      "text/plain": [
       "array([ 4., 15.])"
      ]
     },
     "execution_count": 54,
     "metadata": {},
     "output_type": "execute_result"
    }
   ],
   "source": [
    "np.nansum(my2dar, axis = 1)"
   ]
  },
  {
   "cell_type": "markdown",
   "id": "7db79960",
   "metadata": {},
   "source": [
    "### Sorting"
   ]
  },
  {
   "cell_type": "code",
   "execution_count": 55,
   "id": "8a6010e2",
   "metadata": {},
   "outputs": [
    {
     "data": {
      "text/plain": [
       "array([48, 37, 45, 48, 31, 22,  5, 43,  2, 21])"
      ]
     },
     "execution_count": 55,
     "metadata": {},
     "output_type": "execute_result"
    }
   ],
   "source": [
    "my_ar = np.random.randint(1,51, 10)\n",
    "my_ar"
   ]
  },
  {
   "cell_type": "code",
   "execution_count": 56,
   "id": "2b4cb1ee",
   "metadata": {},
   "outputs": [
    {
     "data": {
      "text/plain": [
       "array([ 2,  5, 21, 22, 31, 37, 43, 45, 48, 48])"
      ]
     },
     "execution_count": 56,
     "metadata": {},
     "output_type": "execute_result"
    }
   ],
   "source": [
    "np.sort(my_ar)"
   ]
  },
  {
   "cell_type": "code",
   "execution_count": 57,
   "id": "1d21879f",
   "metadata": {},
   "outputs": [
    {
     "data": {
      "text/plain": [
       "array([[48, 37, 45, 48, 31],\n",
       "       [22,  5, 43,  2, 21]])"
      ]
     },
     "execution_count": 57,
     "metadata": {},
     "output_type": "execute_result"
    }
   ],
   "source": [
    "my2dar = my_ar.reshape(2,-1)\n",
    "my2dar"
   ]
  },
  {
   "cell_type": "code",
   "execution_count": 58,
   "id": "147a7767",
   "metadata": {},
   "outputs": [
    {
     "data": {
      "text/plain": [
       "array([[22,  5, 43,  2, 21],\n",
       "       [48, 37, 45, 48, 31]])"
      ]
     },
     "execution_count": 58,
     "metadata": {},
     "output_type": "execute_result"
    }
   ],
   "source": [
    "np.sort(my2dar, axis = 0)"
   ]
  },
  {
   "cell_type": "code",
   "execution_count": 59,
   "id": "b56ebb8e",
   "metadata": {},
   "outputs": [
    {
     "data": {
      "text/plain": [
       "array([[31, 37, 45, 48, 48],\n",
       "       [ 2,  5, 21, 22, 43]])"
      ]
     },
     "execution_count": 59,
     "metadata": {},
     "output_type": "execute_result"
    }
   ],
   "source": [
    "np.sort(my2dar, axis = 1)"
   ]
  },
  {
   "cell_type": "markdown",
   "id": "02419460",
   "metadata": {},
   "source": [
    "**Reversing the sort order**"
   ]
  },
  {
   "cell_type": "code",
   "execution_count": 60,
   "id": "1692add1",
   "metadata": {},
   "outputs": [
    {
     "data": {
      "text/plain": [
       "array([48, 48, 45, 43, 37, 31, 22, 21,  5,  2])"
      ]
     },
     "execution_count": 60,
     "metadata": {},
     "output_type": "execute_result"
    }
   ],
   "source": [
    "np.sort(my_ar)[::-1]"
   ]
  },
  {
   "cell_type": "code",
   "execution_count": 61,
   "id": "eb78f35d",
   "metadata": {},
   "outputs": [
    {
     "data": {
      "text/plain": [
       "array([48, 48, 45, 43, 37, 31, 22, 21,  5,  2])"
      ]
     },
     "execution_count": 61,
     "metadata": {},
     "output_type": "execute_result"
    }
   ],
   "source": [
    "np.flip(np.sort(my_ar))"
   ]
  },
  {
   "cell_type": "code",
   "execution_count": 62,
   "id": "5bb00efc",
   "metadata": {},
   "outputs": [
    {
     "data": {
      "text/plain": [
       "array([[48, 37, 45, 48, 31],\n",
       "       [22,  5, 43,  2, 21]])"
      ]
     },
     "execution_count": 62,
     "metadata": {},
     "output_type": "execute_result"
    }
   ],
   "source": [
    "np.sort(my2dar, axis = 0)[::-1, :]"
   ]
  },
  {
   "cell_type": "code",
   "execution_count": 63,
   "id": "dcce2680",
   "metadata": {},
   "outputs": [
    {
     "data": {
      "text/plain": [
       "array([[48, 48, 45, 37, 31],\n",
       "       [43, 22, 21,  5,  2]])"
      ]
     },
     "execution_count": 63,
     "metadata": {},
     "output_type": "execute_result"
    }
   ],
   "source": [
    "np.sort(my2dar, axis = 1)[:, ::-1]"
   ]
  },
  {
   "cell_type": "markdown",
   "id": "81316105",
   "metadata": {},
   "source": [
    "```argsort```"
   ]
  },
  {
   "cell_type": "code",
   "execution_count": 64,
   "id": "1c765745",
   "metadata": {},
   "outputs": [
    {
     "data": {
      "text/plain": [
       "array([48, 37, 45, 48, 31, 22,  5, 43,  2, 21])"
      ]
     },
     "execution_count": 64,
     "metadata": {},
     "output_type": "execute_result"
    }
   ],
   "source": [
    "my_ar"
   ]
  },
  {
   "cell_type": "code",
   "execution_count": 65,
   "id": "cbfe36c8",
   "metadata": {},
   "outputs": [
    {
     "data": {
      "text/plain": [
       "array([8, 6, 9, 5, 4, 1, 7, 2, 0, 3], dtype=int64)"
      ]
     },
     "execution_count": 65,
     "metadata": {},
     "output_type": "execute_result"
    }
   ],
   "source": [
    "np.argsort(my_ar)"
   ]
  },
  {
   "cell_type": "code",
   "execution_count": 66,
   "id": "9f168339",
   "metadata": {},
   "outputs": [
    {
     "data": {
      "text/plain": [
       "array([ 2,  5, 21, 22, 31, 37, 43, 45, 48, 48])"
      ]
     },
     "execution_count": 66,
     "metadata": {},
     "output_type": "execute_result"
    }
   ],
   "source": [
    "my_ar[np.argsort(my_ar)]"
   ]
  },
  {
   "cell_type": "code",
   "execution_count": 67,
   "id": "72660f58",
   "metadata": {},
   "outputs": [
    {
     "data": {
      "text/plain": [
       "array([[1, 1, 1, 1, 1],\n",
       "       [0, 0, 0, 0, 0]], dtype=int64)"
      ]
     },
     "execution_count": 67,
     "metadata": {},
     "output_type": "execute_result"
    }
   ],
   "source": [
    "np.argsort(my2dar, axis = 0)"
   ]
  },
  {
   "cell_type": "code",
   "execution_count": 68,
   "id": "f4d2cde3",
   "metadata": {},
   "outputs": [
    {
     "data": {
      "text/plain": [
       "array([[4, 1, 2, 0, 3],\n",
       "       [3, 1, 4, 0, 2]], dtype=int64)"
      ]
     },
     "execution_count": 68,
     "metadata": {},
     "output_type": "execute_result"
    }
   ],
   "source": [
    "np.argsort(my2dar, axis = 1)"
   ]
  },
  {
   "cell_type": "markdown",
   "id": "d3519a1e",
   "metadata": {},
   "source": [
    "```lexsort```"
   ]
  },
  {
   "cell_type": "code",
   "execution_count": 69,
   "id": "172bf48f",
   "metadata": {},
   "outputs": [
    {
     "data": {
      "text/plain": [
       "array([26, 31, 39, 33, 25])"
      ]
     },
     "execution_count": 69,
     "metadata": {},
     "output_type": "execute_result"
    }
   ],
   "source": [
    "age_ar = np.random.randint(20,45,5)\n",
    "age_ar"
   ]
  },
  {
   "cell_type": "code",
   "execution_count": 70,
   "id": "86615d7d",
   "metadata": {},
   "outputs": [
    {
     "data": {
      "text/plain": [
       "array([180, 176, 174, 172, 177])"
      ]
     },
     "execution_count": 70,
     "metadata": {},
     "output_type": "execute_result"
    }
   ],
   "source": [
    "height_ar = np.random.randint(160,185,5)\n",
    "height_ar"
   ]
  },
  {
   "cell_type": "code",
   "execution_count": 71,
   "id": "1cf0e602",
   "metadata": {},
   "outputs": [
    {
     "data": {
      "text/plain": [
       "array([3, 2, 1, 4, 0], dtype=int64)"
      ]
     },
     "execution_count": 71,
     "metadata": {},
     "output_type": "execute_result"
    }
   ],
   "source": [
    "np.lexsort((age_ar, height_ar))"
   ]
  },
  {
   "cell_type": "markdown",
   "id": "97ed2d92",
   "metadata": {},
   "source": [
    "### Searching"
   ]
  },
  {
   "cell_type": "code",
   "execution_count": 72,
   "id": "05383633",
   "metadata": {},
   "outputs": [
    {
     "data": {
      "text/plain": [
       "array([48, 37, 45, 48, 31, 22,  5, 43,  2, 21])"
      ]
     },
     "execution_count": 72,
     "metadata": {},
     "output_type": "execute_result"
    }
   ],
   "source": [
    "my_ar"
   ]
  },
  {
   "cell_type": "code",
   "execution_count": 73,
   "id": "06a2a1bb",
   "metadata": {},
   "outputs": [
    {
     "data": {
      "text/plain": [
       "0"
      ]
     },
     "execution_count": 73,
     "metadata": {},
     "output_type": "execute_result"
    }
   ],
   "source": [
    "np.argmax(my_ar)"
   ]
  },
  {
   "cell_type": "code",
   "execution_count": 74,
   "id": "f5d9b145",
   "metadata": {},
   "outputs": [
    {
     "data": {
      "text/plain": [
       "8"
      ]
     },
     "execution_count": 74,
     "metadata": {},
     "output_type": "execute_result"
    }
   ],
   "source": [
    "np.argmin(my_ar)"
   ]
  },
  {
   "cell_type": "code",
   "execution_count": 75,
   "id": "a71a36b0",
   "metadata": {},
   "outputs": [
    {
     "data": {
      "text/plain": [
       "array([[48, 37, 45, 48, 31],\n",
       "       [22,  5, 43,  2, 21]])"
      ]
     },
     "execution_count": 75,
     "metadata": {},
     "output_type": "execute_result"
    }
   ],
   "source": [
    "my2dar"
   ]
  },
  {
   "cell_type": "code",
   "execution_count": 76,
   "id": "477e6298",
   "metadata": {},
   "outputs": [
    {
     "data": {
      "text/plain": [
       "array([0, 0, 0, 0, 0], dtype=int64)"
      ]
     },
     "execution_count": 76,
     "metadata": {},
     "output_type": "execute_result"
    }
   ],
   "source": [
    "np.argmax(my2dar, axis = 0)"
   ]
  },
  {
   "cell_type": "code",
   "execution_count": 77,
   "id": "9603ba44",
   "metadata": {},
   "outputs": [
    {
     "data": {
      "text/plain": [
       "array([0, 2], dtype=int64)"
      ]
     },
     "execution_count": 77,
     "metadata": {},
     "output_type": "execute_result"
    }
   ],
   "source": [
    "np.argmax(my2dar, axis = 1)"
   ]
  },
  {
   "cell_type": "code",
   "execution_count": 78,
   "id": "12a9e552",
   "metadata": {},
   "outputs": [
    {
     "data": {
      "text/plain": [
       "(array([0, 1, 2, 3, 4, 7], dtype=int64),)"
      ]
     },
     "execution_count": 78,
     "metadata": {},
     "output_type": "execute_result"
    }
   ],
   "source": [
    "np.where(my_ar > 30)"
   ]
  },
  {
   "cell_type": "code",
   "execution_count": 79,
   "id": "188dac83",
   "metadata": {},
   "outputs": [
    {
     "data": {
      "text/plain": [
       "array([ 48,  37,  45,  48,  31, -22,  -5,  43,  -2, -21])"
      ]
     },
     "execution_count": 79,
     "metadata": {},
     "output_type": "execute_result"
    }
   ],
   "source": [
    "np.where(my_ar > 30, my_ar, -my_ar)"
   ]
  },
  {
   "cell_type": "code",
   "execution_count": 80,
   "id": "40f5c384",
   "metadata": {},
   "outputs": [
    {
     "data": {
      "text/plain": [
       "array([[ 48,  37,  45,  48,  31],\n",
       "       [-22,  -5,  43,  -2, -21]])"
      ]
     },
     "execution_count": 80,
     "metadata": {},
     "output_type": "execute_result"
    }
   ],
   "source": [
    "np.where(my2dar > 30, my2dar, -my2dar)"
   ]
  },
  {
   "cell_type": "code",
   "execution_count": 81,
   "id": "084bf2f2",
   "metadata": {},
   "outputs": [
    {
     "data": {
      "text/plain": [
       "array([[0],\n",
       "       [1],\n",
       "       [2],\n",
       "       [3],\n",
       "       [4],\n",
       "       [7]], dtype=int64)"
      ]
     },
     "execution_count": 81,
     "metadata": {},
     "output_type": "execute_result"
    }
   ],
   "source": [
    "np.argwhere(my_ar > 30)"
   ]
  },
  {
   "cell_type": "code",
   "execution_count": 82,
   "id": "b373f6b6",
   "metadata": {},
   "outputs": [
    {
     "data": {
      "text/plain": [
       "array([[0, 0],\n",
       "       [0, 1],\n",
       "       [0, 2],\n",
       "       [0, 3],\n",
       "       [0, 4],\n",
       "       [1, 2]], dtype=int64)"
      ]
     },
     "execution_count": 82,
     "metadata": {},
     "output_type": "execute_result"
    }
   ],
   "source": [
    "np.argwhere(my2dar > 30)"
   ]
  },
  {
   "cell_type": "markdown",
   "id": "82c95d24",
   "metadata": {},
   "source": [
    "### Broadcasting"
   ]
  },
  {
   "cell_type": "code",
   "execution_count": 83,
   "id": "fec36de2",
   "metadata": {},
   "outputs": [
    {
     "data": {
      "text/plain": [
       "array([10, 20, 30, 40])"
      ]
     },
     "execution_count": 83,
     "metadata": {},
     "output_type": "execute_result"
    }
   ],
   "source": [
    "ar01 = np.arange(10,50,10)\n",
    "ar01"
   ]
  },
  {
   "cell_type": "code",
   "execution_count": 84,
   "id": "ca21e7dd",
   "metadata": {},
   "outputs": [
    {
     "data": {
      "text/plain": [
       "array([15, 25, 35, 45])"
      ]
     },
     "execution_count": 84,
     "metadata": {},
     "output_type": "execute_result"
    }
   ],
   "source": [
    "ar02 = 5\n",
    "ar01 + ar02"
   ]
  },
  {
   "cell_type": "code",
   "execution_count": 85,
   "id": "c742029f",
   "metadata": {},
   "outputs": [
    {
     "data": {
      "text/plain": [
       "array([[10, 15, 20, 25],\n",
       "       [30, 35, 40, 45]])"
      ]
     },
     "execution_count": 85,
     "metadata": {},
     "output_type": "execute_result"
    }
   ],
   "source": [
    "ar01 = np.arange(10,50,5).reshape(2,-1)\n",
    "ar01"
   ]
  },
  {
   "cell_type": "code",
   "execution_count": 86,
   "id": "35c421f8",
   "metadata": {},
   "outputs": [
    {
     "data": {
      "text/plain": [
       "(2, 4)"
      ]
     },
     "execution_count": 86,
     "metadata": {},
     "output_type": "execute_result"
    }
   ],
   "source": [
    "ar01.shape"
   ]
  },
  {
   "cell_type": "code",
   "execution_count": 87,
   "id": "5937ffc8",
   "metadata": {},
   "outputs": [
    {
     "data": {
      "text/plain": [
       "array([[100],\n",
       "       [200]])"
      ]
     },
     "execution_count": 87,
     "metadata": {},
     "output_type": "execute_result"
    }
   ],
   "source": [
    "ar02 = np.array([[100],[200]])\n",
    "ar02"
   ]
  },
  {
   "cell_type": "code",
   "execution_count": 88,
   "id": "b1eea9e1",
   "metadata": {},
   "outputs": [
    {
     "data": {
      "text/plain": [
       "(2, 1)"
      ]
     },
     "execution_count": 88,
     "metadata": {},
     "output_type": "execute_result"
    }
   ],
   "source": [
    "ar02.shape"
   ]
  },
  {
   "cell_type": "code",
   "execution_count": 89,
   "id": "c6c24704",
   "metadata": {},
   "outputs": [
    {
     "data": {
      "text/plain": [
       "array([[110, 115, 120, 125],\n",
       "       [230, 235, 240, 245]])"
      ]
     },
     "execution_count": 89,
     "metadata": {},
     "output_type": "execute_result"
    }
   ],
   "source": [
    "ar01 + ar02"
   ]
  },
  {
   "cell_type": "code",
   "execution_count": 90,
   "id": "efc9d4b5",
   "metadata": {},
   "outputs": [
    {
     "data": {
      "text/plain": [
       "array([10, 20, 30, 40, 50, 60, 70])"
      ]
     },
     "execution_count": 90,
     "metadata": {},
     "output_type": "execute_result"
    }
   ],
   "source": [
    "ar01 = np.arange(10,80,10)\n",
    "ar01"
   ]
  },
  {
   "cell_type": "code",
   "execution_count": 91,
   "id": "0cbe2a51",
   "metadata": {},
   "outputs": [
    {
     "data": {
      "text/plain": [
       "(7,)"
      ]
     },
     "execution_count": 91,
     "metadata": {},
     "output_type": "execute_result"
    }
   ],
   "source": [
    "ar01.shape"
   ]
  },
  {
   "cell_type": "code",
   "execution_count": 92,
   "id": "415cd4ff",
   "metadata": {},
   "outputs": [
    {
     "data": {
      "text/plain": [
       "array([[100],\n",
       "       [200],\n",
       "       [300],\n",
       "       [400]])"
      ]
     },
     "execution_count": 92,
     "metadata": {},
     "output_type": "execute_result"
    }
   ],
   "source": [
    "ar02 = np.arange(100,500,100).reshape(-1,1)\n",
    "ar02"
   ]
  },
  {
   "cell_type": "code",
   "execution_count": 93,
   "id": "13d50e33",
   "metadata": {},
   "outputs": [
    {
     "data": {
      "text/plain": [
       "(4, 1)"
      ]
     },
     "execution_count": 93,
     "metadata": {},
     "output_type": "execute_result"
    }
   ],
   "source": [
    "ar02.shape"
   ]
  },
  {
   "cell_type": "code",
   "execution_count": 94,
   "id": "a1a23823",
   "metadata": {},
   "outputs": [
    {
     "data": {
      "text/plain": [
       "array([[110, 120, 130, 140, 150, 160, 170],\n",
       "       [210, 220, 230, 240, 250, 260, 270],\n",
       "       [310, 320, 330, 340, 350, 360, 370],\n",
       "       [410, 420, 430, 440, 450, 460, 470]])"
      ]
     },
     "execution_count": 94,
     "metadata": {},
     "output_type": "execute_result"
    }
   ],
   "source": [
    "ar01 + ar02"
   ]
  },
  {
   "cell_type": "markdown",
   "id": "6c399698",
   "metadata": {},
   "source": [
    "##### Arrays Incompatible for Broadcasting"
   ]
  },
  {
   "cell_type": "code",
   "execution_count": 95,
   "id": "c3478e27",
   "metadata": {},
   "outputs": [
    {
     "data": {
      "text/plain": [
       "array([[10],\n",
       "       [20],\n",
       "       [30],\n",
       "       [40],\n",
       "       [50],\n",
       "       [60],\n",
       "       [70]])"
      ]
     },
     "execution_count": 95,
     "metadata": {},
     "output_type": "execute_result"
    }
   ],
   "source": [
    "ar01 = np.arange(10,80,10).reshape(-1,1)\n",
    "ar01"
   ]
  },
  {
   "cell_type": "code",
   "execution_count": 96,
   "id": "e8478cc9",
   "metadata": {},
   "outputs": [
    {
     "data": {
      "text/plain": [
       "(7, 1)"
      ]
     },
     "execution_count": 96,
     "metadata": {},
     "output_type": "execute_result"
    }
   ],
   "source": [
    "ar01.shape"
   ]
  },
  {
   "cell_type": "code",
   "execution_count": 97,
   "id": "a69e308c",
   "metadata": {},
   "outputs": [
    {
     "data": {
      "text/plain": [
       "array([[100],\n",
       "       [200],\n",
       "       [300],\n",
       "       [400]])"
      ]
     },
     "execution_count": 97,
     "metadata": {},
     "output_type": "execute_result"
    }
   ],
   "source": [
    "ar02"
   ]
  },
  {
   "cell_type": "code",
   "execution_count": 98,
   "id": "addfeacd",
   "metadata": {},
   "outputs": [
    {
     "data": {
      "text/plain": [
       "(4, 1)"
      ]
     },
     "execution_count": 98,
     "metadata": {},
     "output_type": "execute_result"
    }
   ],
   "source": [
    "ar02.shape"
   ]
  },
  {
   "cell_type": "code",
   "execution_count": 99,
   "id": "fd1c6638",
   "metadata": {},
   "outputs": [
    {
     "ename": "ValueError",
     "evalue": "operands could not be broadcast together with shapes (7,1) (4,1) ",
     "output_type": "error",
     "traceback": [
      "\u001b[1;31m---------------------------------------------------------------------------\u001b[0m",
      "\u001b[1;31mValueError\u001b[0m                                Traceback (most recent call last)",
      "\u001b[1;32m~\\AppData\\Local\\Temp/ipykernel_9040/1595926737.py\u001b[0m in \u001b[0;36m<module>\u001b[1;34m\u001b[0m\n\u001b[1;32m----> 1\u001b[1;33m \u001b[0mar01\u001b[0m \u001b[1;33m+\u001b[0m \u001b[0mar02\u001b[0m\u001b[1;33m\u001b[0m\u001b[1;33m\u001b[0m\u001b[0m\n\u001b[0m",
      "\u001b[1;31mValueError\u001b[0m: operands could not be broadcast together with shapes (7,1) (4,1) "
     ]
    }
   ],
   "source": [
    "ar01 + ar02"
   ]
  },
  {
   "cell_type": "markdown",
   "id": "12a691f7",
   "metadata": {},
   "source": [
    "### Matrix Operations and Linear Algebra"
   ]
  },
  {
   "cell_type": "markdown",
   "id": "0573e3f5",
   "metadata": {},
   "source": [
    "**Transpose**"
   ]
  },
  {
   "cell_type": "code",
   "execution_count": 100,
   "id": "1324542c",
   "metadata": {},
   "outputs": [
    {
     "data": {
      "text/plain": [
       "array([[48, 37, 45, 48, 31],\n",
       "       [22,  5, 43,  2, 21]])"
      ]
     },
     "execution_count": 100,
     "metadata": {},
     "output_type": "execute_result"
    }
   ],
   "source": [
    "my2dar"
   ]
  },
  {
   "cell_type": "code",
   "execution_count": 101,
   "id": "4e681d45",
   "metadata": {},
   "outputs": [
    {
     "data": {
      "text/plain": [
       "array([[48, 22],\n",
       "       [37,  5],\n",
       "       [45, 43],\n",
       "       [48,  2],\n",
       "       [31, 21]])"
      ]
     },
     "execution_count": 101,
     "metadata": {},
     "output_type": "execute_result"
    }
   ],
   "source": [
    "my2dar.T"
   ]
  },
  {
   "cell_type": "markdown",
   "id": "02296b2a",
   "metadata": {},
   "source": [
    "**Determinant**"
   ]
  },
  {
   "cell_type": "code",
   "execution_count": 102,
   "id": "d5e0dabb",
   "metadata": {},
   "outputs": [
    {
     "data": {
      "text/plain": [
       "array([[34, 42, 34],\n",
       "       [12, 16, 33],\n",
       "       [22, 33, 12]])"
      ]
     },
     "execution_count": 102,
     "metadata": {},
     "output_type": "execute_result"
    }
   ],
   "source": [
    "sq_ar = np.random.randint(10,50,9).reshape(3,3)\n",
    "sq_ar"
   ]
  },
  {
   "cell_type": "code",
   "execution_count": 103,
   "id": "71f12083",
   "metadata": {},
   "outputs": [
    {
     "data": {
      "text/plain": [
       "-4558.000000000001"
      ]
     },
     "execution_count": 103,
     "metadata": {},
     "output_type": "execute_result"
    }
   ],
   "source": [
    "np.linalg.det(sq_ar)"
   ]
  },
  {
   "cell_type": "code",
   "execution_count": 104,
   "id": "516a2f10",
   "metadata": {},
   "outputs": [
    {
     "data": {
      "text/plain": [
       "array([[12, 15],\n",
       "       [18, 10]])"
      ]
     },
     "execution_count": 104,
     "metadata": {},
     "output_type": "execute_result"
    }
   ],
   "source": [
    "sq_ar2 = np.array([[12,15], [18,10]])\n",
    "sq_ar2"
   ]
  },
  {
   "cell_type": "code",
   "execution_count": 105,
   "id": "10e45718",
   "metadata": {},
   "outputs": [
    {
     "data": {
      "text/plain": [
       "-149.99999999999997"
      ]
     },
     "execution_count": 105,
     "metadata": {},
     "output_type": "execute_result"
    }
   ],
   "source": [
    "np.linalg.det(sq_ar2)"
   ]
  },
  {
   "cell_type": "markdown",
   "id": "9e8bddbf",
   "metadata": {},
   "source": [
    "**Matrix Multiplication**"
   ]
  },
  {
   "cell_type": "code",
   "execution_count": 106,
   "id": "21cee59b",
   "metadata": {},
   "outputs": [
    {
     "data": {
      "text/plain": [
       "array([[34, 42, 34],\n",
       "       [12, 16, 33],\n",
       "       [22, 33, 12]])"
      ]
     },
     "execution_count": 106,
     "metadata": {},
     "output_type": "execute_result"
    }
   ],
   "source": [
    "sq_ar"
   ]
  },
  {
   "cell_type": "code",
   "execution_count": 107,
   "id": "be9d41b0",
   "metadata": {},
   "outputs": [
    {
     "data": {
      "text/plain": [
       "array([[34., 42., 34.],\n",
       "       [12., 16., 33.],\n",
       "       [22., 33., 12.]])"
      ]
     },
     "execution_count": 107,
     "metadata": {},
     "output_type": "execute_result"
    }
   ],
   "source": [
    "np.matmul(sq_ar, np.eye(3,3))"
   ]
  },
  {
   "cell_type": "code",
   "execution_count": 108,
   "id": "46a73e3b",
   "metadata": {},
   "outputs": [
    {
     "data": {
      "text/plain": [
       "array([[12, 15],\n",
       "       [18, 10]])"
      ]
     },
     "execution_count": 108,
     "metadata": {},
     "output_type": "execute_result"
    }
   ],
   "source": [
    "sq_ar2"
   ]
  },
  {
   "cell_type": "code",
   "execution_count": 109,
   "id": "a8be9734",
   "metadata": {},
   "outputs": [
    {
     "data": {
      "text/plain": [
       "array([[12., 15.],\n",
       "       [18., 10.]])"
      ]
     },
     "execution_count": 109,
     "metadata": {},
     "output_type": "execute_result"
    }
   ],
   "source": [
    "np.matmul(sq_ar2, np.eye(2,2))"
   ]
  },
  {
   "cell_type": "markdown",
   "id": "f883f858",
   "metadata": {},
   "source": [
    "**Inverse**"
   ]
  },
  {
   "cell_type": "code",
   "execution_count": 110,
   "id": "97c6d3cb",
   "metadata": {},
   "outputs": [
    {
     "data": {
      "text/plain": [
       "array([[-0.06666667,  0.1       ],\n",
       "       [ 0.12      , -0.08      ]])"
      ]
     },
     "execution_count": 110,
     "metadata": {},
     "output_type": "execute_result"
    }
   ],
   "source": [
    "inv2 = np.linalg.inv(sq_ar2)\n",
    "inv2"
   ]
  },
  {
   "cell_type": "code",
   "execution_count": 111,
   "id": "1af6272c",
   "metadata": {},
   "outputs": [
    {
     "data": {
      "text/plain": [
       "array([[ 1.00000000e+00, -8.32667268e-17],\n",
       "       [ 0.00000000e+00,  1.00000000e+00]])"
      ]
     },
     "execution_count": 111,
     "metadata": {},
     "output_type": "execute_result"
    }
   ],
   "source": [
    "np.matmul(sq_ar2, inv2)"
   ]
  },
  {
   "cell_type": "markdown",
   "id": "5fc40569",
   "metadata": {},
   "source": [
    "Using ```allclose``` to check"
   ]
  },
  {
   "cell_type": "code",
   "execution_count": 112,
   "id": "ced3415d",
   "metadata": {},
   "outputs": [
    {
     "data": {
      "text/plain": [
       "True"
      ]
     },
     "execution_count": 112,
     "metadata": {},
     "output_type": "execute_result"
    }
   ],
   "source": [
    "np.allclose(np.eye(2,2), np.matmul(sq_ar2, inv2))"
   ]
  },
  {
   "cell_type": "markdown",
   "id": "e653586c",
   "metadata": {},
   "source": [
    "**Solving Linear Equations**\n",
    "\n",
    "```\n",
    "x1 + x2 = 10\n",
    "2x1 + 5x2 = 41\n",
    "```\n",
    "\n",
    "This should give ```x1 = 3``` and ```x2 = 7```"
   ]
  },
  {
   "cell_type": "code",
   "execution_count": 113,
   "id": "cb589413",
   "metadata": {},
   "outputs": [
    {
     "data": {
      "text/plain": [
       "array([[3.],\n",
       "       [7.]])"
      ]
     },
     "execution_count": 113,
     "metadata": {},
     "output_type": "execute_result"
    }
   ],
   "source": [
    "coeff_ar = np.array([[1,1],[2,5]])\n",
    "ord_ar = np.array([[10],[41]])\n",
    "np.linalg.solve(coeff_ar, ord_ar)"
   ]
  },
  {
   "cell_type": "markdown",
   "id": "6fd8b6dd",
   "metadata": {},
   "source": [
    "### Polynomials\n",
    "\n",
    "**Forming a polynomial from coefficients**\n",
    "\n",
    "```\n",
    "-6 - x + x^2 \n",
    "```\n"
   ]
  },
  {
   "cell_type": "code",
   "execution_count": 114,
   "id": "5a052c83",
   "metadata": {},
   "outputs": [],
   "source": [
    "from numpy.polynomial.polynomial import Polynomial"
   ]
  },
  {
   "cell_type": "code",
   "execution_count": 115,
   "id": "103157de",
   "metadata": {},
   "outputs": [
    {
     "data": {
      "text/latex": [
       "$x \\mapsto \\text{-6.0} - \\text{1.0}\\,x + \\text{1.0}\\,x^{2}$"
      ],
      "text/plain": [
       "Polynomial([-6., -1.,  1.], domain=[-1,  1], window=[-1,  1])"
      ]
     },
     "execution_count": 115,
     "metadata": {},
     "output_type": "execute_result"
    }
   ],
   "source": [
    "poly01 = Polynomial([-6,-1,1])\n",
    "poly01"
   ]
  },
  {
   "cell_type": "markdown",
   "id": "0f84af0f",
   "metadata": {},
   "source": [
    "**roots of the polynomial**"
   ]
  },
  {
   "cell_type": "code",
   "execution_count": 116,
   "id": "5321dcc8",
   "metadata": {},
   "outputs": [
    {
     "data": {
      "text/plain": [
       "array([-2.,  3.])"
      ]
     },
     "execution_count": 116,
     "metadata": {},
     "output_type": "execute_result"
    }
   ],
   "source": [
    "poly01.roots()"
   ]
  },
  {
   "cell_type": "markdown",
   "id": "3d739e4e",
   "metadata": {},
   "source": [
    "**Forming Polynomial from roots**\n"
   ]
  },
  {
   "cell_type": "code",
   "execution_count": 117,
   "id": "1a1126b4",
   "metadata": {},
   "outputs": [
    {
     "data": {
      "text/latex": [
       "$x \\mapsto \\text{-6.0} - \\text{1.0}\\,x + \\text{1.0}\\,x^{2}$"
      ],
      "text/plain": [
       "Polynomial([-6., -1.,  1.], domain=[-1.,  1.], window=[-1.,  1.])"
      ]
     },
     "execution_count": 117,
     "metadata": {},
     "output_type": "execute_result"
    }
   ],
   "source": [
    "poly02 = Polynomial.fromroots([-2,3])\n",
    "poly02"
   ]
  },
  {
   "cell_type": "code",
   "execution_count": 118,
   "id": "bc57dd9a",
   "metadata": {},
   "outputs": [],
   "source": [
    "polyx, polyy = poly01.linspace(n = 21, domain = [-5,5])"
   ]
  },
  {
   "cell_type": "code",
   "execution_count": 119,
   "id": "0d5dddb3",
   "metadata": {},
   "outputs": [],
   "source": [
    "import matplotlib.pyplot as plt\n",
    "import seaborn as sns\n",
    "from matplotlib import style\n",
    "style.use('fivethirtyeight')"
   ]
  },
  {
   "cell_type": "code",
   "execution_count": 120,
   "id": "5f5edcea",
   "metadata": {},
   "outputs": [
    {
     "data": {
      "text/plain": [
       "[<matplotlib.lines.Line2D at 0x26006fd2e80>]"
      ]
     },
     "execution_count": 120,
     "metadata": {},
     "output_type": "execute_result"
    },
    {
     "data": {
      "image/png": "[encoded data removed]",
      "text/plain": [
       "<Figure size 432x288 with 1 Axes>"
      ]
     },
     "metadata": {},
     "output_type": "display_data"
    }
   ],
   "source": [
    "plt.plot(polyx, polyy)"
   ]
  },
  {
   "cell_type": "markdown",
   "id": "bf4d2a16",
   "metadata": {},
   "source": [
    "### Curve Fitting"
   ]
  },
  {
   "cell_type": "code",
   "execution_count": 121,
   "id": "5a542dad",
   "metadata": {},
   "outputs": [],
   "source": [
    "numpoints = 11\n",
    "x_vals = np.linspace(-5,5,numpoints)\n",
    "y_vals = x_vals**2 + x_vals - 12 + np.random.rand(numpoints)*4"
   ]
  },
  {
   "cell_type": "code",
   "execution_count": 122,
   "id": "aeaf3c40",
   "metadata": {},
   "outputs": [
    {
     "data": {
      "text/plain": [
       "<matplotlib.collections.PathCollection at 0x26008086940>"
      ]
     },
     "execution_count": 122,
     "metadata": {},
     "output_type": "execute_result"
    },
    {
     "data": {
      "image/png": "[encoded data removed]",
      "text/plain": [
       "<Figure size 432x288 with 1 Axes>"
      ]
     },
     "metadata": {},
     "output_type": "display_data"
    }
   ],
   "source": [
    "plt.scatter(x_vals, y_vals)"
   ]
  },
  {
   "cell_type": "code",
   "execution_count": 123,
   "id": "3ed99ec0",
   "metadata": {},
   "outputs": [],
   "source": [
    "from numpy.polynomial import polynomial"
   ]
  },
  {
   "cell_type": "code",
   "execution_count": 124,
   "id": "b066cc1d",
   "metadata": {},
   "outputs": [
    {
     "data": {
      "text/plain": [
       "array([-9.35761397,  0.96843091,  0.93303665])"
      ]
     },
     "execution_count": 124,
     "metadata": {},
     "output_type": "execute_result"
    }
   ],
   "source": [
    "fit_pol = polynomial.polyfit(x_vals, y_vals, 2)\n",
    "fit_pol"
   ]
  },
  {
   "cell_type": "code",
   "execution_count": 125,
   "id": "ab0cc957",
   "metadata": {},
   "outputs": [],
   "source": [
    "fit_y = polynomial.polyval(x_vals, fit_pol)"
   ]
  },
  {
   "cell_type": "code",
   "execution_count": 126,
   "id": "421c66e6",
   "metadata": {},
   "outputs": [
    {
     "data": {
      "text/plain": [
       "[<matplotlib.lines.Line2D at 0x26008102c10>]"
      ]
     },
     "execution_count": 126,
     "metadata": {},
     "output_type": "execute_result"
    },
    {
     "data": {
      "image/png": "[encoded data removed]",
      "text/plain": [
       "<Figure size 432x288 with 1 Axes>"
      ]
     },
     "metadata": {},
     "output_type": "display_data"
    }
   ],
   "source": [
    "plt.scatter(x_vals, y_vals)\n",
    "plt.plot(x_vals, fit_y, c = 'Red', alpha = 0.5 )"
   ]
  },
  {
   "cell_type": "markdown",
   "id": "ac685020",
   "metadata": {},
   "source": [
    "### Input and Output"
   ]
  },
  {
   "cell_type": "markdown",
   "id": "93b07ded",
   "metadata": {},
   "source": [
    "```save```"
   ]
  },
  {
   "cell_type": "code",
   "execution_count": 127,
   "id": "2af53ae9",
   "metadata": {},
   "outputs": [],
   "source": [
    "with open(\"numpyfile.npy\", \"wb\") as f:\n",
    "    np.save(f, np.arange(1,11).reshape(2,-1))"
   ]
  },
  {
   "cell_type": "markdown",
   "id": "2fe92a26",
   "metadata": {},
   "source": [
    "```load```"
   ]
  },
  {
   "cell_type": "code",
   "execution_count": 128,
   "id": "07ae3686",
   "metadata": {},
   "outputs": [],
   "source": [
    "with open(\"numpyfile.npy\", \"rb\") as f:\n",
    "    out_ar = np.load(f)"
   ]
  },
  {
   "cell_type": "code",
   "execution_count": 129,
   "id": "1e4b8bb4",
   "metadata": {},
   "outputs": [
    {
     "data": {
      "text/plain": [
       "array([[ 1,  2,  3,  4,  5],\n",
       "       [ 6,  7,  8,  9, 10]])"
      ]
     },
     "execution_count": 129,
     "metadata": {},
     "output_type": "execute_result"
    }
   ],
   "source": [
    "out_ar"
   ]
  },
  {
   "cell_type": "markdown",
   "id": "aac14ef8",
   "metadata": {},
   "source": [
    "```savetxt```"
   ]
  },
  {
   "cell_type": "code",
   "execution_count": 130,
   "id": "4dace713",
   "metadata": {},
   "outputs": [],
   "source": [
    "np.savetxt(\"nptxt.csv\", np.arange(101,121).reshape(4,-1))"
   ]
  },
  {
   "cell_type": "markdown",
   "id": "84765764",
   "metadata": {},
   "source": [
    "```loadtxt```"
   ]
  },
  {
   "cell_type": "code",
   "execution_count": 131,
   "id": "13c4c92a",
   "metadata": {},
   "outputs": [
    {
     "data": {
      "text/plain": [
       "array([[101., 102., 103., 104., 105.],\n",
       "       [106., 107., 108., 109., 110.],\n",
       "       [111., 112., 113., 114., 115.],\n",
       "       [116., 117., 118., 119., 120.]])"
      ]
     },
     "execution_count": 131,
     "metadata": {},
     "output_type": "execute_result"
    }
   ],
   "source": [
    "np.loadtxt(\"nptxt.csv\")"
   ]
  }
 ],
 "metadata": {
  "kernelspec": {
   "display_name": "Python 3 (ipykernel)",
   "language": "python",
   "name": "python3"
  },
  "language_info": {
   "codemirror_mode": {
    "name": "ipython",
    "version": 3
   },
   "file_extension": ".py",
   "mimetype": "text/x-python",
   "name": "python",
   "nbconvert_exporter": "python",
   "pygments_lexer": "ipython3",
   "version": "3.9.5"
  }
 },
 "nbformat": 4,
 "nbformat_minor": 5
}
